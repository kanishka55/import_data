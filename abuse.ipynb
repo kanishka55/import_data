{
  "nbformat": 4,
  "nbformat_minor": 0,
  "metadata": {
    "colab": {
      "provenance": [],
      "collapsed_sections": [],
      "authorship_tag": "ABX9TyOfLzXnAS5jWwnqwmbTKhxb",
      "include_colab_link": true
    },
    "kernelspec": {
      "name": "python3",
      "display_name": "Python 3"
    },
    "language_info": {
      "name": "python"
    }
  },
  "cells": [
    {
      "cell_type": "markdown",
      "metadata": {
        "id": "view-in-github",
        "colab_type": "text"
      },
      "source": [
        "<a href=\"https://colab.research.google.com/github/kanishka55/import_data/blob/main/abuse.ipynb\" target=\"_parent\"><img src=\"https://colab.research.google.com/assets/colab-badge.svg\" alt=\"Open In Colab\"/></a>"
      ]
    },
    {
      "cell_type": "code",
      "execution_count": 1,
      "metadata": {
        "colab": {
          "base_uri": "https://localhost:8080/"
        },
        "id": "o5W-ByfnfY7M",
        "outputId": "3ab6dfcf-f120-4a44-eee3-2a1baf01da2b"
      },
      "outputs": [
        {
          "output_type": "stream",
          "name": "stdout",
          "text": [
            "Mounted at /content/drive\n"
          ]
        }
      ],
      "source": [
        "from google.colab import drive\n",
        "drive.mount('/content/drive')"
      ]
    },
    {
      "cell_type": "code",
      "source": [
        "import pandas as pd"
      ],
      "metadata": {
        "id": "IiY9a3WEfr6g"
      },
      "execution_count": 2,
      "outputs": []
    },
    {
      "cell_type": "code",
      "source": [
        "dataset = pd.read_csv('/content/drive/MyDrive/colab/OS/Datasets/labeled_data.csv')"
      ],
      "metadata": {
        "id": "WOCkQlINhVv3"
      },
      "execution_count": 3,
      "outputs": []
    },
    {
      "cell_type": "code",
      "source": [
        "dataset"
      ],
      "metadata": {
        "colab": {
          "base_uri": "https://localhost:8080/",
          "height": 424
        },
        "id": "PZcnhIcIhjg3",
        "outputId": "64f6591c-c180-4a96-aef4-83dfc4104afb"
      },
      "execution_count": 4,
      "outputs": [
        {
          "output_type": "execute_result",
          "data": {
            "text/plain": [
              "       Unnamed: 0  count  hate_speech  offensive_language  neither  class  \\\n",
              "0               0      3            0                   0        3      2   \n",
              "1               1      3            0                   3        0      1   \n",
              "2               2      3            0                   3        0      1   \n",
              "3               3      3            0                   2        1      1   \n",
              "4               4      6            0                   6        0      1   \n",
              "...           ...    ...          ...                 ...      ...    ...   \n",
              "24778       25291      3            0                   2        1      1   \n",
              "24779       25292      3            0                   1        2      2   \n",
              "24780       25294      3            0                   3        0      1   \n",
              "24781       25295      6            0                   6        0      1   \n",
              "24782       25296      3            0                   0        3      2   \n",
              "\n",
              "                                                   tweet  \n",
              "0      !!! RT @mayasolovely: As a woman you shouldn't...  \n",
              "1      !!!!! RT @mleew17: boy dats cold...tyga dwn ba...  \n",
              "2      !!!!!!! RT @UrKindOfBrand Dawg!!!! RT @80sbaby...  \n",
              "3      !!!!!!!!! RT @C_G_Anderson: @viva_based she lo...  \n",
              "4      !!!!!!!!!!!!! RT @ShenikaRoberts: The shit you...  \n",
              "...                                                  ...  \n",
              "24778  you's a muthaf***in lie &#8220;@LifeAsKing: @2...  \n",
              "24779  you've gone and broke the wrong heart baby, an...  \n",
              "24780  young buck wanna eat!!.. dat nigguh like I ain...  \n",
              "24781              youu got wild bitches tellin you lies  \n",
              "24782  ~~Ruffled | Ntac Eileen Dahlia - Beautiful col...  \n",
              "\n",
              "[24783 rows x 7 columns]"
            ],
            "text/html": [
              "\n",
              "  <div id=\"df-87f41f7f-b340-4b98-a707-67097fd26a5c\">\n",
              "    <div class=\"colab-df-container\">\n",
              "      <div>\n",
              "<style scoped>\n",
              "    .dataframe tbody tr th:only-of-type {\n",
              "        vertical-align: middle;\n",
              "    }\n",
              "\n",
              "    .dataframe tbody tr th {\n",
              "        vertical-align: top;\n",
              "    }\n",
              "\n",
              "    .dataframe thead th {\n",
              "        text-align: right;\n",
              "    }\n",
              "</style>\n",
              "<table border=\"1\" class=\"dataframe\">\n",
              "  <thead>\n",
              "    <tr style=\"text-align: right;\">\n",
              "      <th></th>\n",
              "      <th>Unnamed: 0</th>\n",
              "      <th>count</th>\n",
              "      <th>hate_speech</th>\n",
              "      <th>offensive_language</th>\n",
              "      <th>neither</th>\n",
              "      <th>class</th>\n",
              "      <th>tweet</th>\n",
              "    </tr>\n",
              "  </thead>\n",
              "  <tbody>\n",
              "    <tr>\n",
              "      <th>0</th>\n",
              "      <td>0</td>\n",
              "      <td>3</td>\n",
              "      <td>0</td>\n",
              "      <td>0</td>\n",
              "      <td>3</td>\n",
              "      <td>2</td>\n",
              "      <td>!!! RT @mayasolovely: As a woman you shouldn't...</td>\n",
              "    </tr>\n",
              "    <tr>\n",
              "      <th>1</th>\n",
              "      <td>1</td>\n",
              "      <td>3</td>\n",
              "      <td>0</td>\n",
              "      <td>3</td>\n",
              "      <td>0</td>\n",
              "      <td>1</td>\n",
              "      <td>!!!!! RT @mleew17: boy dats cold...tyga dwn ba...</td>\n",
              "    </tr>\n",
              "    <tr>\n",
              "      <th>2</th>\n",
              "      <td>2</td>\n",
              "      <td>3</td>\n",
              "      <td>0</td>\n",
              "      <td>3</td>\n",
              "      <td>0</td>\n",
              "      <td>1</td>\n",
              "      <td>!!!!!!! RT @UrKindOfBrand Dawg!!!! RT @80sbaby...</td>\n",
              "    </tr>\n",
              "    <tr>\n",
              "      <th>3</th>\n",
              "      <td>3</td>\n",
              "      <td>3</td>\n",
              "      <td>0</td>\n",
              "      <td>2</td>\n",
              "      <td>1</td>\n",
              "      <td>1</td>\n",
              "      <td>!!!!!!!!! RT @C_G_Anderson: @viva_based she lo...</td>\n",
              "    </tr>\n",
              "    <tr>\n",
              "      <th>4</th>\n",
              "      <td>4</td>\n",
              "      <td>6</td>\n",
              "      <td>0</td>\n",
              "      <td>6</td>\n",
              "      <td>0</td>\n",
              "      <td>1</td>\n",
              "      <td>!!!!!!!!!!!!! RT @ShenikaRoberts: The shit you...</td>\n",
              "    </tr>\n",
              "    <tr>\n",
              "      <th>...</th>\n",
              "      <td>...</td>\n",
              "      <td>...</td>\n",
              "      <td>...</td>\n",
              "      <td>...</td>\n",
              "      <td>...</td>\n",
              "      <td>...</td>\n",
              "      <td>...</td>\n",
              "    </tr>\n",
              "    <tr>\n",
              "      <th>24778</th>\n",
              "      <td>25291</td>\n",
              "      <td>3</td>\n",
              "      <td>0</td>\n",
              "      <td>2</td>\n",
              "      <td>1</td>\n",
              "      <td>1</td>\n",
              "      <td>you's a muthaf***in lie &amp;#8220;@LifeAsKing: @2...</td>\n",
              "    </tr>\n",
              "    <tr>\n",
              "      <th>24779</th>\n",
              "      <td>25292</td>\n",
              "      <td>3</td>\n",
              "      <td>0</td>\n",
              "      <td>1</td>\n",
              "      <td>2</td>\n",
              "      <td>2</td>\n",
              "      <td>you've gone and broke the wrong heart baby, an...</td>\n",
              "    </tr>\n",
              "    <tr>\n",
              "      <th>24780</th>\n",
              "      <td>25294</td>\n",
              "      <td>3</td>\n",
              "      <td>0</td>\n",
              "      <td>3</td>\n",
              "      <td>0</td>\n",
              "      <td>1</td>\n",
              "      <td>young buck wanna eat!!.. dat nigguh like I ain...</td>\n",
              "    </tr>\n",
              "    <tr>\n",
              "      <th>24781</th>\n",
              "      <td>25295</td>\n",
              "      <td>6</td>\n",
              "      <td>0</td>\n",
              "      <td>6</td>\n",
              "      <td>0</td>\n",
              "      <td>1</td>\n",
              "      <td>youu got wild bitches tellin you lies</td>\n",
              "    </tr>\n",
              "    <tr>\n",
              "      <th>24782</th>\n",
              "      <td>25296</td>\n",
              "      <td>3</td>\n",
              "      <td>0</td>\n",
              "      <td>0</td>\n",
              "      <td>3</td>\n",
              "      <td>2</td>\n",
              "      <td>~~Ruffled | Ntac Eileen Dahlia - Beautiful col...</td>\n",
              "    </tr>\n",
              "  </tbody>\n",
              "</table>\n",
              "<p>24783 rows × 7 columns</p>\n",
              "</div>\n",
              "      <button class=\"colab-df-convert\" onclick=\"convertToInteractive('df-87f41f7f-b340-4b98-a707-67097fd26a5c')\"\n",
              "              title=\"Convert this dataframe to an interactive table.\"\n",
              "              style=\"display:none;\">\n",
              "        \n",
              "  <svg xmlns=\"http://www.w3.org/2000/svg\" height=\"24px\"viewBox=\"0 0 24 24\"\n",
              "       width=\"24px\">\n",
              "    <path d=\"M0 0h24v24H0V0z\" fill=\"none\"/>\n",
              "    <path d=\"M18.56 5.44l.94 2.06.94-2.06 2.06-.94-2.06-.94-.94-2.06-.94 2.06-2.06.94zm-11 1L8.5 8.5l.94-2.06 2.06-.94-2.06-.94L8.5 2.5l-.94 2.06-2.06.94zm10 10l.94 2.06.94-2.06 2.06-.94-2.06-.94-.94-2.06-.94 2.06-2.06.94z\"/><path d=\"M17.41 7.96l-1.37-1.37c-.4-.4-.92-.59-1.43-.59-.52 0-1.04.2-1.43.59L10.3 9.45l-7.72 7.72c-.78.78-.78 2.05 0 2.83L4 21.41c.39.39.9.59 1.41.59.51 0 1.02-.2 1.41-.59l7.78-7.78 2.81-2.81c.8-.78.8-2.07 0-2.86zM5.41 20L4 18.59l7.72-7.72 1.47 1.35L5.41 20z\"/>\n",
              "  </svg>\n",
              "      </button>\n",
              "      \n",
              "  <style>\n",
              "    .colab-df-container {\n",
              "      display:flex;\n",
              "      flex-wrap:wrap;\n",
              "      gap: 12px;\n",
              "    }\n",
              "\n",
              "    .colab-df-convert {\n",
              "      background-color: #E8F0FE;\n",
              "      border: none;\n",
              "      border-radius: 50%;\n",
              "      cursor: pointer;\n",
              "      display: none;\n",
              "      fill: #1967D2;\n",
              "      height: 32px;\n",
              "      padding: 0 0 0 0;\n",
              "      width: 32px;\n",
              "    }\n",
              "\n",
              "    .colab-df-convert:hover {\n",
              "      background-color: #E2EBFA;\n",
              "      box-shadow: 0px 1px 2px rgba(60, 64, 67, 0.3), 0px 1px 3px 1px rgba(60, 64, 67, 0.15);\n",
              "      fill: #174EA6;\n",
              "    }\n",
              "\n",
              "    [theme=dark] .colab-df-convert {\n",
              "      background-color: #3B4455;\n",
              "      fill: #D2E3FC;\n",
              "    }\n",
              "\n",
              "    [theme=dark] .colab-df-convert:hover {\n",
              "      background-color: #434B5C;\n",
              "      box-shadow: 0px 1px 3px 1px rgba(0, 0, 0, 0.15);\n",
              "      filter: drop-shadow(0px 1px 2px rgba(0, 0, 0, 0.3));\n",
              "      fill: #FFFFFF;\n",
              "    }\n",
              "  </style>\n",
              "\n",
              "      <script>\n",
              "        const buttonEl =\n",
              "          document.querySelector('#df-87f41f7f-b340-4b98-a707-67097fd26a5c button.colab-df-convert');\n",
              "        buttonEl.style.display =\n",
              "          google.colab.kernel.accessAllowed ? 'block' : 'none';\n",
              "\n",
              "        async function convertToInteractive(key) {\n",
              "          const element = document.querySelector('#df-87f41f7f-b340-4b98-a707-67097fd26a5c');\n",
              "          const dataTable =\n",
              "            await google.colab.kernel.invokeFunction('convertToInteractive',\n",
              "                                                     [key], {});\n",
              "          if (!dataTable) return;\n",
              "\n",
              "          const docLinkHtml = 'Like what you see? Visit the ' +\n",
              "            '<a target=\"_blank\" href=https://colab.research.google.com/notebooks/data_table.ipynb>data table notebook</a>'\n",
              "            + ' to learn more about interactive tables.';\n",
              "          element.innerHTML = '';\n",
              "          dataTable['output_type'] = 'display_data';\n",
              "          await google.colab.output.renderOutput(dataTable, element);\n",
              "          const docLink = document.createElement('div');\n",
              "          docLink.innerHTML = docLinkHtml;\n",
              "          element.appendChild(docLink);\n",
              "        }\n",
              "      </script>\n",
              "    </div>\n",
              "  </div>\n",
              "  "
            ]
          },
          "metadata": {},
          "execution_count": 4
        }
      ]
    },
    {
      "cell_type": "code",
      "source": [
        "dataset['tweet']"
      ],
      "metadata": {
        "colab": {
          "base_uri": "https://localhost:8080/"
        },
        "id": "9wapP5VphtbQ",
        "outputId": "f1726f64-3271-4ff6-a129-8b03ae4fbd5c"
      },
      "execution_count": 5,
      "outputs": [
        {
          "output_type": "execute_result",
          "data": {
            "text/plain": [
              "0        !!! RT @mayasolovely: As a woman you shouldn't...\n",
              "1        !!!!! RT @mleew17: boy dats cold...tyga dwn ba...\n",
              "2        !!!!!!! RT @UrKindOfBrand Dawg!!!! RT @80sbaby...\n",
              "3        !!!!!!!!! RT @C_G_Anderson: @viva_based she lo...\n",
              "4        !!!!!!!!!!!!! RT @ShenikaRoberts: The shit you...\n",
              "                               ...                        \n",
              "24778    you's a muthaf***in lie &#8220;@LifeAsKing: @2...\n",
              "24779    you've gone and broke the wrong heart baby, an...\n",
              "24780    young buck wanna eat!!.. dat nigguh like I ain...\n",
              "24781                youu got wild bitches tellin you lies\n",
              "24782    ~~Ruffled | Ntac Eileen Dahlia - Beautiful col...\n",
              "Name: tweet, Length: 24783, dtype: object"
            ]
          },
          "metadata": {},
          "execution_count": 5
        }
      ]
    },
    {
      "cell_type": "code",
      "source": [
        "import string\n",
        "string.punctuation"
      ],
      "metadata": {
        "colab": {
          "base_uri": "https://localhost:8080/",
          "height": 36
        },
        "id": "8cZAvFbNkkf-",
        "outputId": "26aa6258-53bc-4663-f2ff-7b8feb55017e"
      },
      "execution_count": 6,
      "outputs": [
        {
          "output_type": "execute_result",
          "data": {
            "text/plain": [
              "'!\"#$%&\\'()*+,-./:;<=>?@[\\\\]^_`{|}~'"
            ],
            "application/vnd.google.colaboratory.intrinsic+json": {
              "type": "string"
            }
          },
          "metadata": {},
          "execution_count": 6
        }
      ]
    },
    {
      "cell_type": "code",
      "source": [
        "#defining the function to remove punctuation\n",
        "def remove_punctuation(text):\n",
        "    punctuationfree=''.join([i for i in text if i not in string.punctuation])\n",
        "    return punctuationfree"
      ],
      "metadata": {
        "id": "k1q_7IW0knbi"
      },
      "execution_count": 7,
      "outputs": []
    },
    {
      "cell_type": "code",
      "source": [
        "dataset['without_pun'] = dataset['tweet'].apply(lambda x: remove_punctuation(x))"
      ],
      "metadata": {
        "id": "ZmnTDa9NkuIg"
      },
      "execution_count": 8,
      "outputs": []
    },
    {
      "cell_type": "code",
      "source": [
        "dataset['without_pun']"
      ],
      "metadata": {
        "colab": {
          "base_uri": "https://localhost:8080/"
        },
        "id": "9yB4gfQhk9ei",
        "outputId": "36cff43c-5cc5-45df-b96d-2f44f769f05c"
      },
      "execution_count": 9,
      "outputs": [
        {
          "output_type": "execute_result",
          "data": {
            "text/plain": [
              "0         RT mayasolovely As a woman you shouldnt compl...\n",
              "1         RT mleew17 boy dats coldtyga dwn bad for cuff...\n",
              "2         RT UrKindOfBrand Dawg RT 80sbaby4life You eve...\n",
              "3           RT CGAnderson vivabased she look like a tranny\n",
              "4         RT ShenikaRoberts The shit you hear about me ...\n",
              "                               ...                        \n",
              "24778    yous a muthafin lie 8220LifeAsKing 20Pearls co...\n",
              "24779    youve gone and broke the wrong heart baby and ...\n",
              "24780    young buck wanna eat dat nigguh like I aint fu...\n",
              "24781                youu got wild bitches tellin you lies\n",
              "24782    Ruffled  Ntac Eileen Dahlia  Beautiful color c...\n",
              "Name: without_pun, Length: 24783, dtype: object"
            ]
          },
          "metadata": {},
          "execution_count": 9
        }
      ]
    },
    {
      "cell_type": "code",
      "source": [
        "import re\n"
      ],
      "metadata": {
        "id": "mDBgkPUnlOE9"
      },
      "execution_count": 10,
      "outputs": []
    },
    {
      "cell_type": "code",
      "source": [
        "def clean_unwant(text):\n",
        "    text = re.sub(r'(RT[^\\n]+\\n)', '', text)\n",
        "    return text"
      ],
      "metadata": {
        "id": "xiGZNC8GprZx"
      },
      "execution_count": 11,
      "outputs": []
    },
    {
      "cell_type": "code",
      "source": [
        "##dataset['unwant_cleaned'] = dataset['without_pun'].apply(lambda x: clean_unwant(x))"
      ],
      "metadata": {
        "id": "7VTeKLORlcsm"
      },
      "execution_count": null,
      "outputs": []
    },
    {
      "cell_type": "code",
      "source": [
        "##dataset['unwant_cleaned']"
      ],
      "metadata": {
        "colab": {
          "base_uri": "https://localhost:8080/"
        },
        "id": "NeMwJnmlmOUo",
        "outputId": "82de2877-fb71-4003-b015-d7c690f74b40"
      },
      "execution_count": null,
      "outputs": [
        {
          "output_type": "execute_result",
          "data": {
            "text/plain": [
              "0         RT mayasolovely As a woman you shouldnt compl...\n",
              "1         RT mleew17 boy dats coldtyga dwn bad for cuff...\n",
              "2         RT UrKindOfBrand Dawg RT 80sbaby4life You eve...\n",
              "3           RT CGAnderson vivabased she look like a tranny\n",
              "4         RT ShenikaRoberts The shit you hear about me ...\n",
              "                               ...                        \n",
              "24778    yous a muthafin lie 8220LifeAsKing 20Pearls co...\n",
              "24779    youve gone and broke the wrong heart baby and ...\n",
              "24780    young buck wanna eat dat nigguh like I aint fu...\n",
              "24781                youu got wild bitches tellin you lies\n",
              "24782    Ruffled  Ntac Eileen Dahlia  Beautiful color c...\n",
              "Name: unwant_cleaned, Length: 24783, dtype: object"
            ]
          },
          "metadata": {},
          "execution_count": 29
        }
      ]
    },
    {
      "cell_type": "code",
      "source": [
        "remove_words = ['RT']"
      ],
      "metadata": {
        "id": "T7OyscfHqXQ3"
      },
      "execution_count": 12,
      "outputs": []
    },
    {
      "cell_type": "code",
      "source": [
        "pat = r'\\b(?:{})\\b'.format('|'.join(remove_words))"
      ],
      "metadata": {
        "id": "0lVwXTmJqfB9"
      },
      "execution_count": 13,
      "outputs": []
    },
    {
      "cell_type": "code",
      "source": [
        "pat"
      ],
      "metadata": {
        "colab": {
          "base_uri": "https://localhost:8080/",
          "height": 36
        },
        "id": "iIrmFOejqgzq",
        "outputId": "0950a957-6210-4c32-dc7b-77723c0ea9b6"
      },
      "execution_count": 14,
      "outputs": [
        {
          "output_type": "execute_result",
          "data": {
            "text/plain": [
              "'\\\\b(?:RT)\\\\b'"
            ],
            "application/vnd.google.colaboratory.intrinsic+json": {
              "type": "string"
            }
          },
          "metadata": {},
          "execution_count": 14
        }
      ]
    },
    {
      "cell_type": "code",
      "source": [
        "dataset['unwant_cleaned'] = dataset['without_pun'].str.replace(pat, '')\n"
      ],
      "metadata": {
        "colab": {
          "base_uri": "https://localhost:8080/"
        },
        "id": "BJVNDfSpqrva",
        "outputId": "17e49344-c1cb-42bf-8b3a-eeb402727995"
      },
      "execution_count": 15,
      "outputs": [
        {
          "output_type": "stream",
          "name": "stderr",
          "text": [
            "/usr/local/lib/python3.7/dist-packages/ipykernel_launcher.py:1: FutureWarning: The default value of regex will change from True to False in a future version.\n",
            "  \"\"\"Entry point for launching an IPython kernel.\n"
          ]
        }
      ]
    },
    {
      "cell_type": "code",
      "source": [
        "dataset['unwant_cleaned']"
      ],
      "metadata": {
        "colab": {
          "base_uri": "https://localhost:8080/"
        },
        "id": "TtHR9e9RrCE6",
        "outputId": "a8ad1c6e-0875-40d7-9b5b-3e824f1817bc"
      },
      "execution_count": 16,
      "outputs": [
        {
          "output_type": "execute_result",
          "data": {
            "text/plain": [
              "0          mayasolovely As a woman you shouldnt complai...\n",
              "1          mleew17 boy dats coldtyga dwn bad for cuffin...\n",
              "2          UrKindOfBrand Dawg  80sbaby4life You ever fu...\n",
              "3              CGAnderson vivabased she look like a tranny\n",
              "4          ShenikaRoberts The shit you hear about me mi...\n",
              "                               ...                        \n",
              "24778    yous a muthafin lie 8220LifeAsKing 20Pearls co...\n",
              "24779    youve gone and broke the wrong heart baby and ...\n",
              "24780    young buck wanna eat dat nigguh like I aint fu...\n",
              "24781                youu got wild bitches tellin you lies\n",
              "24782    Ruffled  Ntac Eileen Dahlia  Beautiful color c...\n",
              "Name: unwant_cleaned, Length: 24783, dtype: object"
            ]
          },
          "metadata": {},
          "execution_count": 16
        }
      ]
    },
    {
      "cell_type": "code",
      "source": [
        "#importing nlp library\n",
        "import nltk\n",
        "nltk.download('stopwords')"
      ],
      "metadata": {
        "colab": {
          "base_uri": "https://localhost:8080/"
        },
        "id": "FgWmnzJnrOu_",
        "outputId": "ff13105b-64f4-4677-d5b3-6aeadb37dd1e"
      },
      "execution_count": 17,
      "outputs": [
        {
          "output_type": "stream",
          "name": "stderr",
          "text": [
            "[nltk_data] Downloading package stopwords to /root/nltk_data...\n",
            "[nltk_data]   Unzipping corpora/stopwords.zip.\n"
          ]
        },
        {
          "output_type": "execute_result",
          "data": {
            "text/plain": [
              "True"
            ]
          },
          "metadata": {},
          "execution_count": 17
        }
      ]
    },
    {
      "cell_type": "code",
      "source": [
        "#Stop words present in the library\n",
        "stopwords = nltk.corpus.stopwords.words('english')"
      ],
      "metadata": {
        "id": "hdMKmx-Jrvo_"
      },
      "execution_count": 18,
      "outputs": []
    },
    {
      "cell_type": "code",
      "source": [
        "##The function for remove stopwords in dataset\n",
        "def remove_stopwords(text):\n",
        "    output= ' '.join([word for word in text.split() if word not in stopwords])\n",
        "    return output"
      ],
      "metadata": {
        "id": "pZoL3K63rlr8"
      },
      "execution_count": 19,
      "outputs": []
    },
    {
      "cell_type": "code",
      "source": [
        "#applying the stopword function\n",
        "dataset['no_stopwords']= dataset['unwant_cleaned'].apply(lambda x:remove_stopwords(x))"
      ],
      "metadata": {
        "id": "HtgG2mYNryHG"
      },
      "execution_count": 20,
      "outputs": []
    },
    {
      "cell_type": "code",
      "source": [
        "dataset['no_stopwords']"
      ],
      "metadata": {
        "colab": {
          "base_uri": "https://localhost:8080/"
        },
        "id": "zTLVvMNgsidx",
        "outputId": "54cbb4c4-c97b-4963-8ece-c4556ca13f87"
      },
      "execution_count": 21,
      "outputs": [
        {
          "output_type": "execute_result",
          "data": {
            "text/plain": [
              "0        mayasolovely As woman shouldnt complain cleani...\n",
              "1        mleew17 boy dats coldtyga dwn bad cuffin dat h...\n",
              "2        UrKindOfBrand Dawg 80sbaby4life You ever fuck ...\n",
              "3                    CGAnderson vivabased look like tranny\n",
              "4        ShenikaRoberts The shit hear might true might ...\n",
              "                               ...                        \n",
              "24778    yous muthafin lie 8220LifeAsKing 20Pearls core...\n",
              "24779    youve gone broke wrong heart baby drove rednec...\n",
              "24780    young buck wanna eat dat nigguh like I aint fu...\n",
              "24781                    youu got wild bitches tellin lies\n",
              "24782    Ruffled Ntac Eileen Dahlia Beautiful color com...\n",
              "Name: no_stopwords, Length: 24783, dtype: object"
            ]
          },
          "metadata": {},
          "execution_count": 21
        }
      ]
    },
    {
      "cell_type": "code",
      "source": [
        "dataset['lower']= dataset['no_stopwords'].apply(lambda x: x.lower())"
      ],
      "metadata": {
        "id": "DuIAF4bzxAnF"
      },
      "execution_count": 22,
      "outputs": []
    },
    {
      "cell_type": "code",
      "source": [
        "dataset['lower']"
      ],
      "metadata": {
        "colab": {
          "base_uri": "https://localhost:8080/"
        },
        "id": "kj_mrXG12g9-",
        "outputId": "b45b646e-60d9-40bb-f560-7197534139ab"
      },
      "execution_count": 23,
      "outputs": [
        {
          "output_type": "execute_result",
          "data": {
            "text/plain": [
              "0        mayasolovely as woman shouldnt complain cleani...\n",
              "1        mleew17 boy dats coldtyga dwn bad cuffin dat h...\n",
              "2        urkindofbrand dawg 80sbaby4life you ever fuck ...\n",
              "3                    cganderson vivabased look like tranny\n",
              "4        shenikaroberts the shit hear might true might ...\n",
              "                               ...                        \n",
              "24778    yous muthafin lie 8220lifeasking 20pearls core...\n",
              "24779    youve gone broke wrong heart baby drove rednec...\n",
              "24780    young buck wanna eat dat nigguh like i aint fu...\n",
              "24781                    youu got wild bitches tellin lies\n",
              "24782    ruffled ntac eileen dahlia beautiful color com...\n",
              "Name: lower, Length: 24783, dtype: object"
            ]
          },
          "metadata": {},
          "execution_count": 23
        }
      ]
    },
    {
      "cell_type": "code",
      "source": [
        "#defining function for tokenization\n",
        "import re\n",
        "def tokenization(text):\n",
        "    tokens = re.findall('[\\w]+',text)\n",
        "    return tokens\n",
        "#applying function to the column\n",
        "dataset['tokenied']= dataset['lower'].apply(lambda x: tokenization(x))"
      ],
      "metadata": {
        "id": "sITCEr8UuZd0"
      },
      "execution_count": 24,
      "outputs": []
    },
    {
      "cell_type": "code",
      "source": [
        "dataset['tokenied']"
      ],
      "metadata": {
        "colab": {
          "base_uri": "https://localhost:8080/"
        },
        "id": "iCl5BRDmugHE",
        "outputId": "6a4ab1fe-f713-4832-c39a-00e93eeaecd4"
      },
      "execution_count": 25,
      "outputs": [
        {
          "output_type": "execute_result",
          "data": {
            "text/plain": [
              "0        [mayasolovely, as, woman, shouldnt, complain, ...\n",
              "1        [mleew17, boy, dats, coldtyga, dwn, bad, cuffi...\n",
              "2        [urkindofbrand, dawg, 80sbaby4life, you, ever,...\n",
              "3              [cganderson, vivabased, look, like, tranny]\n",
              "4        [shenikaroberts, the, shit, hear, might, true,...\n",
              "                               ...                        \n",
              "24778    [yous, muthafin, lie, 8220lifeasking, 20pearls...\n",
              "24779    [youve, gone, broke, wrong, heart, baby, drove...\n",
              "24780    [young, buck, wanna, eat, dat, nigguh, like, i...\n",
              "24781             [youu, got, wild, bitches, tellin, lies]\n",
              "24782    [ruffled, ntac, eileen, dahlia, beautiful, col...\n",
              "Name: tokenied, Length: 24783, dtype: object"
            ]
          },
          "metadata": {},
          "execution_count": 25
        }
      ]
    },
    {
      "cell_type": "code",
      "source": [
        "#importing the Stemming function from nltk library\n",
        "from nltk.stem.porter import PorterStemmer\n",
        "#defining the object for stemming\n",
        "porter_stemmer = PorterStemmer()"
      ],
      "metadata": {
        "id": "vDPQIQC2upTE"
      },
      "execution_count": 26,
      "outputs": []
    },
    {
      "cell_type": "code",
      "source": [
        "#defining a function for stemming\n",
        "def stemming(text):\n",
        "  stem_text = [porter_stemmer.stem(word) for word in text]\n",
        "  return stem_text"
      ],
      "metadata": {
        "id": "e4UNocV5uwEx"
      },
      "execution_count": 27,
      "outputs": []
    },
    {
      "cell_type": "code",
      "source": [
        "dataset['stemmed']=dataset['tokenied'].apply(lambda x: stemming(x))"
      ],
      "metadata": {
        "id": "YEKf5DNIu29D"
      },
      "execution_count": 28,
      "outputs": []
    },
    {
      "cell_type": "code",
      "source": [
        "dataset['stemmed']"
      ],
      "metadata": {
        "colab": {
          "base_uri": "https://localhost:8080/"
        },
        "id": "Hlhbcu0ovBOp",
        "outputId": "f8d9433f-3275-4ff4-d751-15143eb0b902"
      },
      "execution_count": 29,
      "outputs": [
        {
          "output_type": "execute_result",
          "data": {
            "text/plain": [
              "0        [mayasolov, as, woman, shouldnt, complain, cle...\n",
              "1        [mleew17, boy, dat, coldtyga, dwn, bad, cuffin...\n",
              "2        [urkindofbrand, dawg, 80sbaby4lif, you, ever, ...\n",
              "3                [cganderson, vivabas, look, like, tranni]\n",
              "4        [shenikarobert, the, shit, hear, might, true, ...\n",
              "                               ...                        \n",
              "24778    [you, muthafin, lie, 8220lifeask, 20pearl, cor...\n",
              "24779    [youv, gone, broke, wrong, heart, babi, drove,...\n",
              "24780    [young, buck, wanna, eat, dat, nigguh, like, i...\n",
              "24781                [youu, got, wild, bitch, tellin, lie]\n",
              "24782    [ruffl, ntac, eileen, dahlia, beauti, color, c...\n",
              "Name: stemmed, Length: 24783, dtype: object"
            ]
          },
          "metadata": {},
          "execution_count": 29
        }
      ]
    },
    {
      "cell_type": "code",
      "source": [
        "import nltk\n",
        "nltk.download('wordnet')\n",
        "nltk.download('omw-1.4')"
      ],
      "metadata": {
        "colab": {
          "base_uri": "https://localhost:8080/"
        },
        "id": "SlaIcq_zvNWE",
        "outputId": "487fdd02-5430-48a8-c7d6-fd270f1ef8d4"
      },
      "execution_count": 30,
      "outputs": [
        {
          "output_type": "stream",
          "name": "stderr",
          "text": [
            "[nltk_data] Downloading package wordnet to /root/nltk_data...\n",
            "[nltk_data] Downloading package omw-1.4 to /root/nltk_data...\n"
          ]
        },
        {
          "output_type": "execute_result",
          "data": {
            "text/plain": [
              "True"
            ]
          },
          "metadata": {},
          "execution_count": 30
        }
      ]
    },
    {
      "cell_type": "code",
      "source": [
        "from nltk.stem import WordNetLemmatizer\n",
        "#defining the object for Lemmatization\n",
        "wordnet_lemmatizer = WordNetLemmatizer()"
      ],
      "metadata": {
        "id": "_-zBi8yuvS5z"
      },
      "execution_count": 31,
      "outputs": []
    },
    {
      "cell_type": "code",
      "source": [
        "#defining the function for lemmatization\n",
        "def lemmatizer(text):\n",
        "  lemm_text = [wordnet_lemmatizer.lemmatize(word) for word in text]\n",
        "  return lemm_text"
      ],
      "metadata": {
        "id": "mpaUGihlvXkF"
      },
      "execution_count": 32,
      "outputs": []
    },
    {
      "cell_type": "code",
      "source": [
        "dataset['lemmatized']=dataset['tokenied'].apply(lambda x:lemmatizer(x))"
      ],
      "metadata": {
        "id": "UL170yexveQd"
      },
      "execution_count": 33,
      "outputs": []
    },
    {
      "cell_type": "code",
      "source": [
        "dataset['lemmatized']"
      ],
      "metadata": {
        "colab": {
          "base_uri": "https://localhost:8080/"
        },
        "id": "NzTEqwWAvozo",
        "outputId": "89a20165-8a7c-49cb-bba1-134b39275754"
      },
      "execution_count": 34,
      "outputs": [
        {
          "output_type": "execute_result",
          "data": {
            "text/plain": [
              "0        [mayasolovely, a, woman, shouldnt, complain, c...\n",
              "1        [mleew17, boy, dat, coldtyga, dwn, bad, cuffin...\n",
              "2        [urkindofbrand, dawg, 80sbaby4life, you, ever,...\n",
              "3              [cganderson, vivabased, look, like, tranny]\n",
              "4        [shenikaroberts, the, shit, hear, might, true,...\n",
              "                               ...                        \n",
              "24778    [yous, muthafin, lie, 8220lifeasking, 20pearls...\n",
              "24779    [youve, gone, broke, wrong, heart, baby, drove...\n",
              "24780    [young, buck, wanna, eat, dat, nigguh, like, i...\n",
              "24781                [youu, got, wild, bitch, tellin, lie]\n",
              "24782    [ruffled, ntac, eileen, dahlia, beautiful, col...\n",
              "Name: lemmatized, Length: 24783, dtype: object"
            ]
          },
          "metadata": {},
          "execution_count": 34
        }
      ]
    },
    {
      "cell_type": "code",
      "source": [
        "from sklearn.feature_extraction.text import CountVectorizer\n",
        "from sklearn.feature_extraction.text import TfidfVectorizer\n",
        "vectorizer = CountVectorizer(min_df=0.3, max_df=0.7,)\n",
        "X = vectorizer.fit_transform(dataset['lower']).toarray()"
      ],
      "metadata": {
        "id": "kSnp0i7-vu9N"
      },
      "execution_count": 35,
      "outputs": []
    },
    {
      "cell_type": "code",
      "source": [
        "X"
      ],
      "metadata": {
        "colab": {
          "base_uri": "https://localhost:8080/"
        },
        "id": "jp8lBY8C5Gyo",
        "outputId": "414e7c55-7aae-4081-b89b-8676f799e166"
      },
      "execution_count": 36,
      "outputs": [
        {
          "output_type": "execute_result",
          "data": {
            "text/plain": [
              "array([[0],\n",
              "       [0],\n",
              "       [1],\n",
              "       ...,\n",
              "       [0],\n",
              "       [0],\n",
              "       [0]])"
            ]
          },
          "metadata": {},
          "execution_count": 36
        }
      ]
    },
    {
      "cell_type": "code",
      "source": [
        "from tkinter import YView\n",
        "from sklearn.feature_extraction.text import TfidfVectorizer\n",
        "tfidfconverter = TfidfVectorizer(min_df=0.3, max_df=0.7)\n",
        "Y = tfidfconverter.fit_transform(dataset['lower']).toarray()"
      ],
      "metadata": {
        "id": "4mfVmCz35Lk4"
      },
      "execution_count": 37,
      "outputs": []
    },
    {
      "cell_type": "code",
      "source": [
        "Y"
      ],
      "metadata": {
        "colab": {
          "base_uri": "https://localhost:8080/"
        },
        "id": "5SqcDdOG6Fv5",
        "outputId": "e7507064-e63c-4f4b-b2c1-acb19df0c6fd"
      },
      "execution_count": 38,
      "outputs": [
        {
          "output_type": "execute_result",
          "data": {
            "text/plain": [
              "array([[0.],\n",
              "       [0.],\n",
              "       [1.],\n",
              "       ...,\n",
              "       [0.],\n",
              "       [0.],\n",
              "       [0.]])"
            ]
          },
          "metadata": {},
          "execution_count": 38
        }
      ]
    },
    {
      "cell_type": "code",
      "source": [
        "from sklearn.cluster import KMeans\n",
        "import numpy as np"
      ],
      "metadata": {
        "id": "1zl5979N6QQs"
      },
      "execution_count": 39,
      "outputs": []
    },
    {
      "cell_type": "code",
      "source": [
        "km=KMeans(n_clusters=2,n_init=25,random_state=23)\n",
        "km.fit(X)\n",
        "y_cluster=km.predict(X)\n",
        "y_cluster"
      ],
      "metadata": {
        "colab": {
          "base_uri": "https://localhost:8080/"
        },
        "id": "Wr4AyzpE8mCr",
        "outputId": "751d7502-b80d-4e7d-ada3-272398c4e88b"
      },
      "execution_count": 40,
      "outputs": [
        {
          "output_type": "execute_result",
          "data": {
            "text/plain": [
              "array([1, 1, 0, ..., 1, 1, 1], dtype=int32)"
            ]
          },
          "metadata": {},
          "execution_count": 40
        }
      ]
    },
    {
      "cell_type": "code",
      "source": [
        "#Count Cluster\n",
        "from collections import Counter\n",
        "cnt=Counter(y_cluster)\n",
        "cnt"
      ],
      "metadata": {
        "colab": {
          "base_uri": "https://localhost:8080/"
        },
        "id": "GVFK0pOMwlAZ",
        "outputId": "0fa9cfef-da53-4ec3-8cab-fc8a9c530ce1"
      },
      "execution_count": 41,
      "outputs": [
        {
          "output_type": "execute_result",
          "data": {
            "text/plain": [
              "Counter({1: 17093, 0: 7690})"
            ]
          },
          "metadata": {},
          "execution_count": 41
        }
      ]
    }
  ]
}