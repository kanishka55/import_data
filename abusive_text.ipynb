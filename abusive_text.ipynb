{
  "nbformat": 4,
  "nbformat_minor": 0,
  "metadata": {
    "colab": {
      "provenance": [],
      "collapsed_sections": [],
      "authorship_tag": "ABX9TyNStiUCAJZyr2k85h+Yn5na",
      "include_colab_link": true
    },
    "kernelspec": {
      "name": "python3",
      "display_name": "Python 3"
    },
    "language_info": {
      "name": "python"
    }
  },
  "cells": [
    {
      "cell_type": "markdown",
      "metadata": {
        "id": "view-in-github",
        "colab_type": "text"
      },
      "source": [
        "<a href=\"https://colab.research.google.com/github/kanishka55/import_data/blob/main/abusive_text.ipynb\" target=\"_parent\"><img src=\"https://colab.research.google.com/assets/colab-badge.svg\" alt=\"Open In Colab\"/></a>"
      ]
    },
    {
      "cell_type": "code",
      "execution_count": 62,
      "metadata": {
        "colab": {
          "base_uri": "https://localhost:8080/"
        },
        "id": "nnDHMousz-C7",
        "outputId": "e8683af2-99cd-495f-c411-b3b4b23348c8"
      },
      "outputs": [
        {
          "output_type": "stream",
          "name": "stdout",
          "text": [
            "Drive already mounted at /content/drive; to attempt to forcibly remount, call drive.mount(\"/content/drive\", force_remount=True).\n"
          ]
        }
      ],
      "source": [
        "from google.colab import drive\n",
        "drive.mount('/content/drive')"
      ]
    },
    {
      "cell_type": "code",
      "source": [
        "!wget https://github.com/mohit3011/AbuseAnalyzer/blob/main/AbuseAnalyzer_Dataset.tsv?raw=true"
      ],
      "metadata": {
        "colab": {
          "base_uri": "https://localhost:8080/"
        },
        "id": "EYR0xdbL0i8u",
        "outputId": "10c8fe17-55a0-4e02-c3e8-d8fb0c5a9a78"
      },
      "execution_count": 63,
      "outputs": [
        {
          "output_type": "stream",
          "name": "stdout",
          "text": [
            "--2022-09-16 04:44:52--  https://github.com/mohit3011/AbuseAnalyzer/blob/main/AbuseAnalyzer_Dataset.tsv?raw=true\n",
            "Resolving github.com (github.com)... 140.82.114.4\n",
            "Connecting to github.com (github.com)|140.82.114.4|:443... connected.\n",
            "HTTP request sent, awaiting response... 302 Found\n",
            "Location: https://github.com/mohit3011/AbuseAnalyzer/raw/main/AbuseAnalyzer_Dataset.tsv [following]\n",
            "--2022-09-16 04:44:52--  https://github.com/mohit3011/AbuseAnalyzer/raw/main/AbuseAnalyzer_Dataset.tsv\n",
            "Reusing existing connection to github.com:443.\n",
            "HTTP request sent, awaiting response... 302 Found\n",
            "Location: https://raw.githubusercontent.com/mohit3011/AbuseAnalyzer/main/AbuseAnalyzer_Dataset.tsv [following]\n",
            "--2022-09-16 04:44:52--  https://raw.githubusercontent.com/mohit3011/AbuseAnalyzer/main/AbuseAnalyzer_Dataset.tsv\n",
            "Resolving raw.githubusercontent.com (raw.githubusercontent.com)... 185.199.111.133, 185.199.108.133, 185.199.110.133, ...\n",
            "Connecting to raw.githubusercontent.com (raw.githubusercontent.com)|185.199.111.133|:443... connected.\n",
            "HTTP request sent, awaiting response... 200 OK\n",
            "Length: 891142 (870K) [text/plain]\n",
            "Saving to: ‘AbuseAnalyzer_Dataset.tsv?raw=true.1’\n",
            "\n",
            "AbuseAnalyzer_Datas 100%[===================>] 870.26K  --.-KB/s    in 0.007s  \n",
            "\n",
            "2022-09-16 04:44:52 (129 MB/s) - ‘AbuseAnalyzer_Dataset.tsv?raw=true.1’ saved [891142/891142]\n",
            "\n"
          ]
        }
      ]
    },
    {
      "cell_type": "code",
      "source": [
        "import pandas as pd\n",
        "import re"
      ],
      "metadata": {
        "id": "mvshZJCz1OAY"
      },
      "execution_count": 64,
      "outputs": []
    },
    {
      "cell_type": "code",
      "source": [
        "df = pd.read_csv('/content/drive/MyDrive/colab/OS/Datasets/AbuseAnalyzer_Dataset.tsv?raw=true',sep='\\t')"
      ],
      "metadata": {
        "id": "MJ2aDbLf16NT"
      },
      "execution_count": 65,
      "outputs": []
    },
    {
      "cell_type": "code",
      "source": [
        "df"
      ],
      "metadata": {
        "colab": {
          "base_uri": "https://localhost:8080/",
          "height": 424
        },
        "id": "yd0lO_zs4jTe",
        "outputId": "04d45ba5-b5a9-41ef-ed35-d934e66eed2d"
      },
      "execution_count": 66,
      "outputs": [
        {
          "output_type": "execute_result",
          "data": {
            "text/plain": [
              "                                              Post Text Emoji  Hate/Non-Hate  \\\n",
              "0                     ALS AT RED BLACKS LIVE RIGHT NOW!   NaN              1   \n",
              "1     Rigged election will cause civil war just my o...   NaN              1   \n",
              "2     I fucking love it ! Sorry I can only offer him...   NaN              2   \n",
              "3     What a steaming load of shit!  https://help.tw...   NaN              2   \n",
              "4     Until he does rule it out. The man fucking fli...   NaN              2   \n",
              "...                                                 ...   ...            ...   \n",
              "7596  I am calling for everyone to surround Mikes re...   NaN              1   \n",
              "7597  LMFAO he was going hit the chic tell realized ...   NaN              2   \n",
              "7598                 Amazing how Ann got so much wrong.   NaN              2   \n",
              "7599  lol little Anthony drew attention to himself.....     😈              1   \n",
              "7600  Bumper Sticker FREE TOMMY https://www.zazzle.c...   NaN              1   \n",
              "\n",
              "     Target of Hate  Class of Hate  \n",
              "0               NaN            NaN  \n",
              "1               NaN            NaN  \n",
              "2               1-3            1.0  \n",
              "3                 2            1.0  \n",
              "4               1-3            1.0  \n",
              "...             ...            ...  \n",
              "7596            NaN            NaN  \n",
              "7597              2            2.0  \n",
              "7598            1-3            1.0  \n",
              "7599            NaN            NaN  \n",
              "7600            NaN            NaN  \n",
              "\n",
              "[7601 rows x 5 columns]"
            ],
            "text/html": [
              "\n",
              "  <div id=\"df-89444b40-d460-4fdd-a94a-cba917faeb7f\">\n",
              "    <div class=\"colab-df-container\">\n",
              "      <div>\n",
              "<style scoped>\n",
              "    .dataframe tbody tr th:only-of-type {\n",
              "        vertical-align: middle;\n",
              "    }\n",
              "\n",
              "    .dataframe tbody tr th {\n",
              "        vertical-align: top;\n",
              "    }\n",
              "\n",
              "    .dataframe thead th {\n",
              "        text-align: right;\n",
              "    }\n",
              "</style>\n",
              "<table border=\"1\" class=\"dataframe\">\n",
              "  <thead>\n",
              "    <tr style=\"text-align: right;\">\n",
              "      <th></th>\n",
              "      <th>Post Text</th>\n",
              "      <th>Emoji</th>\n",
              "      <th>Hate/Non-Hate</th>\n",
              "      <th>Target of Hate</th>\n",
              "      <th>Class of Hate</th>\n",
              "    </tr>\n",
              "  </thead>\n",
              "  <tbody>\n",
              "    <tr>\n",
              "      <th>0</th>\n",
              "      <td>ALS AT RED BLACKS LIVE RIGHT NOW!</td>\n",
              "      <td>NaN</td>\n",
              "      <td>1</td>\n",
              "      <td>NaN</td>\n",
              "      <td>NaN</td>\n",
              "    </tr>\n",
              "    <tr>\n",
              "      <th>1</th>\n",
              "      <td>Rigged election will cause civil war just my o...</td>\n",
              "      <td>NaN</td>\n",
              "      <td>1</td>\n",
              "      <td>NaN</td>\n",
              "      <td>NaN</td>\n",
              "    </tr>\n",
              "    <tr>\n",
              "      <th>2</th>\n",
              "      <td>I fucking love it ! Sorry I can only offer him...</td>\n",
              "      <td>NaN</td>\n",
              "      <td>2</td>\n",
              "      <td>1-3</td>\n",
              "      <td>1.0</td>\n",
              "    </tr>\n",
              "    <tr>\n",
              "      <th>3</th>\n",
              "      <td>What a steaming load of shit!  https://help.tw...</td>\n",
              "      <td>NaN</td>\n",
              "      <td>2</td>\n",
              "      <td>2</td>\n",
              "      <td>1.0</td>\n",
              "    </tr>\n",
              "    <tr>\n",
              "      <th>4</th>\n",
              "      <td>Until he does rule it out. The man fucking fli...</td>\n",
              "      <td>NaN</td>\n",
              "      <td>2</td>\n",
              "      <td>1-3</td>\n",
              "      <td>1.0</td>\n",
              "    </tr>\n",
              "    <tr>\n",
              "      <th>...</th>\n",
              "      <td>...</td>\n",
              "      <td>...</td>\n",
              "      <td>...</td>\n",
              "      <td>...</td>\n",
              "      <td>...</td>\n",
              "    </tr>\n",
              "    <tr>\n",
              "      <th>7596</th>\n",
              "      <td>I am calling for everyone to surround Mikes re...</td>\n",
              "      <td>NaN</td>\n",
              "      <td>1</td>\n",
              "      <td>NaN</td>\n",
              "      <td>NaN</td>\n",
              "    </tr>\n",
              "    <tr>\n",
              "      <th>7597</th>\n",
              "      <td>LMFAO he was going hit the chic tell realized ...</td>\n",
              "      <td>NaN</td>\n",
              "      <td>2</td>\n",
              "      <td>2</td>\n",
              "      <td>2.0</td>\n",
              "    </tr>\n",
              "    <tr>\n",
              "      <th>7598</th>\n",
              "      <td>Amazing how Ann got so much wrong.</td>\n",
              "      <td>NaN</td>\n",
              "      <td>2</td>\n",
              "      <td>1-3</td>\n",
              "      <td>1.0</td>\n",
              "    </tr>\n",
              "    <tr>\n",
              "      <th>7599</th>\n",
              "      <td>lol little Anthony drew attention to himself.....</td>\n",
              "      <td>😈</td>\n",
              "      <td>1</td>\n",
              "      <td>NaN</td>\n",
              "      <td>NaN</td>\n",
              "    </tr>\n",
              "    <tr>\n",
              "      <th>7600</th>\n",
              "      <td>Bumper Sticker FREE TOMMY https://www.zazzle.c...</td>\n",
              "      <td>NaN</td>\n",
              "      <td>1</td>\n",
              "      <td>NaN</td>\n",
              "      <td>NaN</td>\n",
              "    </tr>\n",
              "  </tbody>\n",
              "</table>\n",
              "<p>7601 rows × 5 columns</p>\n",
              "</div>\n",
              "      <button class=\"colab-df-convert\" onclick=\"convertToInteractive('df-89444b40-d460-4fdd-a94a-cba917faeb7f')\"\n",
              "              title=\"Convert this dataframe to an interactive table.\"\n",
              "              style=\"display:none;\">\n",
              "        \n",
              "  <svg xmlns=\"http://www.w3.org/2000/svg\" height=\"24px\"viewBox=\"0 0 24 24\"\n",
              "       width=\"24px\">\n",
              "    <path d=\"M0 0h24v24H0V0z\" fill=\"none\"/>\n",
              "    <path d=\"M18.56 5.44l.94 2.06.94-2.06 2.06-.94-2.06-.94-.94-2.06-.94 2.06-2.06.94zm-11 1L8.5 8.5l.94-2.06 2.06-.94-2.06-.94L8.5 2.5l-.94 2.06-2.06.94zm10 10l.94 2.06.94-2.06 2.06-.94-2.06-.94-.94-2.06-.94 2.06-2.06.94z\"/><path d=\"M17.41 7.96l-1.37-1.37c-.4-.4-.92-.59-1.43-.59-.52 0-1.04.2-1.43.59L10.3 9.45l-7.72 7.72c-.78.78-.78 2.05 0 2.83L4 21.41c.39.39.9.59 1.41.59.51 0 1.02-.2 1.41-.59l7.78-7.78 2.81-2.81c.8-.78.8-2.07 0-2.86zM5.41 20L4 18.59l7.72-7.72 1.47 1.35L5.41 20z\"/>\n",
              "  </svg>\n",
              "      </button>\n",
              "      \n",
              "  <style>\n",
              "    .colab-df-container {\n",
              "      display:flex;\n",
              "      flex-wrap:wrap;\n",
              "      gap: 12px;\n",
              "    }\n",
              "\n",
              "    .colab-df-convert {\n",
              "      background-color: #E8F0FE;\n",
              "      border: none;\n",
              "      border-radius: 50%;\n",
              "      cursor: pointer;\n",
              "      display: none;\n",
              "      fill: #1967D2;\n",
              "      height: 32px;\n",
              "      padding: 0 0 0 0;\n",
              "      width: 32px;\n",
              "    }\n",
              "\n",
              "    .colab-df-convert:hover {\n",
              "      background-color: #E2EBFA;\n",
              "      box-shadow: 0px 1px 2px rgba(60, 64, 67, 0.3), 0px 1px 3px 1px rgba(60, 64, 67, 0.15);\n",
              "      fill: #174EA6;\n",
              "    }\n",
              "\n",
              "    [theme=dark] .colab-df-convert {\n",
              "      background-color: #3B4455;\n",
              "      fill: #D2E3FC;\n",
              "    }\n",
              "\n",
              "    [theme=dark] .colab-df-convert:hover {\n",
              "      background-color: #434B5C;\n",
              "      box-shadow: 0px 1px 3px 1px rgba(0, 0, 0, 0.15);\n",
              "      filter: drop-shadow(0px 1px 2px rgba(0, 0, 0, 0.3));\n",
              "      fill: #FFFFFF;\n",
              "    }\n",
              "  </style>\n",
              "\n",
              "      <script>\n",
              "        const buttonEl =\n",
              "          document.querySelector('#df-89444b40-d460-4fdd-a94a-cba917faeb7f button.colab-df-convert');\n",
              "        buttonEl.style.display =\n",
              "          google.colab.kernel.accessAllowed ? 'block' : 'none';\n",
              "\n",
              "        async function convertToInteractive(key) {\n",
              "          const element = document.querySelector('#df-89444b40-d460-4fdd-a94a-cba917faeb7f');\n",
              "          const dataTable =\n",
              "            await google.colab.kernel.invokeFunction('convertToInteractive',\n",
              "                                                     [key], {});\n",
              "          if (!dataTable) return;\n",
              "\n",
              "          const docLinkHtml = 'Like what you see? Visit the ' +\n",
              "            '<a target=\"_blank\" href=https://colab.research.google.com/notebooks/data_table.ipynb>data table notebook</a>'\n",
              "            + ' to learn more about interactive tables.';\n",
              "          element.innerHTML = '';\n",
              "          dataTable['output_type'] = 'display_data';\n",
              "          await google.colab.output.renderOutput(dataTable, element);\n",
              "          const docLink = document.createElement('div');\n",
              "          docLink.innerHTML = docLinkHtml;\n",
              "          element.appendChild(docLink);\n",
              "        }\n",
              "      </script>\n",
              "    </div>\n",
              "  </div>\n",
              "  "
            ]
          },
          "metadata": {},
          "execution_count": 66
        }
      ]
    },
    {
      "cell_type": "code",
      "source": [
        "df['Post Text']"
      ],
      "metadata": {
        "colab": {
          "base_uri": "https://localhost:8080/"
        },
        "id": "Fq49Y2yA5RQv",
        "outputId": "5e55e0b0-ff7c-4423-a4fc-b52b22701637"
      },
      "execution_count": 67,
      "outputs": [
        {
          "output_type": "execute_result",
          "data": {
            "text/plain": [
              "0                       ALS AT RED BLACKS LIVE RIGHT NOW!\n",
              "1       Rigged election will cause civil war just my o...\n",
              "2       I fucking love it ! Sorry I can only offer him...\n",
              "3       What a steaming load of shit!  https://help.tw...\n",
              "4       Until he does rule it out. The man fucking fli...\n",
              "                              ...                        \n",
              "7596    I am calling for everyone to surround Mikes re...\n",
              "7597    LMFAO he was going hit the chic tell realized ...\n",
              "7598                   Amazing how Ann got so much wrong.\n",
              "7599    lol little Anthony drew attention to himself.....\n",
              "7600    Bumper Sticker FREE TOMMY https://www.zazzle.c...\n",
              "Name: Post Text, Length: 7601, dtype: object"
            ]
          },
          "metadata": {},
          "execution_count": 67
        }
      ]
    },
    {
      "cell_type": "code",
      "source": [
        "def remove_URL(text):\n",
        "    \"\"\"Remove URLs from a text string\"\"\"\n",
        "    return re.sub(r\"http\\S+\", \"\", text) "
      ],
      "metadata": {
        "id": "alF3ShOF58GG"
      },
      "execution_count": 68,
      "outputs": []
    },
    {
      "cell_type": "code",
      "source": [
        "df['no_url']= df['Post Text'].apply(lambda x:remove_URL(x))"
      ],
      "metadata": {
        "id": "4Ida3rc_6Jxw"
      },
      "execution_count": 69,
      "outputs": []
    },
    {
      "cell_type": "code",
      "source": [
        "df['no_url']"
      ],
      "metadata": {
        "colab": {
          "base_uri": "https://localhost:8080/"
        },
        "id": "bAEU_MFF6UpN",
        "outputId": "a5d0e803-7c53-4f9e-ed3c-2fc920fdb2a2"
      },
      "execution_count": 70,
      "outputs": [
        {
          "output_type": "execute_result",
          "data": {
            "text/plain": [
              "0                       ALS AT RED BLACKS LIVE RIGHT NOW!\n",
              "1       Rigged election will cause civil war just my o...\n",
              "2       I fucking love it ! Sorry I can only offer him...\n",
              "3                         What a steaming load of shit!  \n",
              "4       Until he does rule it out. The man fucking fli...\n",
              "                              ...                        \n",
              "7596    I am calling for everyone to surround Mikes re...\n",
              "7597    LMFAO he was going hit the chic tell realized ...\n",
              "7598                   Amazing how Ann got so much wrong.\n",
              "7599    lol little Anthony drew attention to himself.....\n",
              "7600                           Bumper Sticker FREE TOMMY \n",
              "Name: no_url, Length: 7601, dtype: object"
            ]
          },
          "metadata": {},
          "execution_count": 70
        }
      ]
    },
    {
      "cell_type": "code",
      "source": [
        "import string\n",
        "string.punctuation"
      ],
      "metadata": {
        "colab": {
          "base_uri": "https://localhost:8080/",
          "height": 36
        },
        "id": "Nkyiall36aAo",
        "outputId": "49874e42-ba74-4468-c9cd-0acde926b023"
      },
      "execution_count": 71,
      "outputs": [
        {
          "output_type": "execute_result",
          "data": {
            "text/plain": [
              "'!\"#$%&\\'()*+,-./:;<=>?@[\\\\]^_`{|}~'"
            ],
            "application/vnd.google.colaboratory.intrinsic+json": {
              "type": "string"
            }
          },
          "metadata": {},
          "execution_count": 71
        }
      ]
    },
    {
      "cell_type": "code",
      "source": [
        "#defining the function to remove punctuation\n",
        "def remove_punctuation(text):\n",
        "    punctuationfree=''.join([i for i in text if i not in string.punctuation])\n",
        "    return punctuationfree"
      ],
      "metadata": {
        "id": "o9sSuMUt6mul"
      },
      "execution_count": 72,
      "outputs": []
    },
    {
      "cell_type": "code",
      "source": [
        "df['nopuc_text'] = df['no_url'].apply(lambda x: remove_punctuation(x))"
      ],
      "metadata": {
        "id": "1YpEKxJw6wK_"
      },
      "execution_count": 73,
      "outputs": []
    },
    {
      "cell_type": "code",
      "source": [
        "df['nopuc_text']"
      ],
      "metadata": {
        "colab": {
          "base_uri": "https://localhost:8080/"
        },
        "id": "wkni2SVr67tL",
        "outputId": "b43ebcfb-01fa-4b34-c442-43954179dfdd"
      },
      "execution_count": 74,
      "outputs": [
        {
          "output_type": "execute_result",
          "data": {
            "text/plain": [
              "0                        ALS AT RED BLACKS LIVE RIGHT NOW\n",
              "1       Rigged election will cause civil war just my o...\n",
              "2       I fucking love it  Sorry I can only offer him ...\n",
              "3                          What a steaming load of shit  \n",
              "4       Until he does rule it out The man fucking flip...\n",
              "                              ...                        \n",
              "7596    I am calling for everyone to surround Mikes re...\n",
              "7597    LMFAO he was going hit the chic tell realized ...\n",
              "7598                    Amazing how Ann got so much wrong\n",
              "7599    lol little Anthony drew attention to himselfmi...\n",
              "7600                           Bumper Sticker FREE TOMMY \n",
              "Name: nopuc_text, Length: 7601, dtype: object"
            ]
          },
          "metadata": {},
          "execution_count": 74
        }
      ]
    },
    {
      "cell_type": "code",
      "source": [
        "import re"
      ],
      "metadata": {
        "id": "ld6usv3ceNQf"
      },
      "execution_count": 75,
      "outputs": []
    },
    {
      "cell_type": "code",
      "source": [
        "def clean_text(text):\n",
        "  text = text.lower()\n",
        "  text = text.strip()  ##to remove the whitespace from the beginning and at the end of the string\n",
        "  text = re.sub(r'(\\d+)', ' ', text)\n",
        "  text = re.sub(r'(\\s+)', ' ', text)\n",
        "  return text"
      ],
      "metadata": {
        "id": "KJ74Kb5BbF9g"
      },
      "execution_count": 85,
      "outputs": []
    },
    {
      "cell_type": "code",
      "source": [
        "df['clean'] = df['nopuc_text'].apply(lambda x:clean_text(x))"
      ],
      "metadata": {
        "id": "01f0TjbAcuDn"
      },
      "execution_count": 86,
      "outputs": []
    },
    {
      "cell_type": "code",
      "source": [
        "df['clean']"
      ],
      "metadata": {
        "colab": {
          "base_uri": "https://localhost:8080/"
        },
        "id": "kuzGf3opc-fO",
        "outputId": "8f5ca6c5-35ff-4c7c-a0c5-82cfcc0e7caf"
      },
      "execution_count": 87,
      "outputs": [
        {
          "output_type": "execute_result",
          "data": {
            "text/plain": [
              "0                        als at red blacks live right now\n",
              "1       rigged election will cause civil war just my o...\n",
              "2       i fucking love it sorry i can only offer him a...\n",
              "3                            what a steaming load of shit\n",
              "4       until he does rule it out the man fucking flip...\n",
              "                              ...                        \n",
              "7596    i am calling for everyone to surround mikes re...\n",
              "7597    lmfao he was going hit the chic tell realized ...\n",
              "7598                    amazing how ann got so much wrong\n",
              "7599    lol little anthony drew attention to himselfmi...\n",
              "7600                            bumper sticker free tommy\n",
              "Name: clean, Length: 7601, dtype: object"
            ]
          },
          "metadata": {},
          "execution_count": 87
        }
      ]
    },
    {
      "cell_type": "code",
      "source": [
        "#importing nlp library\n",
        "import nltk\n",
        "nltk.download('stopwords')"
      ],
      "metadata": {
        "colab": {
          "base_uri": "https://localhost:8080/"
        },
        "id": "EnDr8zkqmpeK",
        "outputId": "332de3e1-2ff6-401a-8967-5b909aa8dd41"
      },
      "execution_count": 88,
      "outputs": [
        {
          "output_type": "stream",
          "name": "stderr",
          "text": [
            "[nltk_data] Downloading package stopwords to /root/nltk_data...\n",
            "[nltk_data]   Unzipping corpora/stopwords.zip.\n"
          ]
        },
        {
          "output_type": "execute_result",
          "data": {
            "text/plain": [
              "True"
            ]
          },
          "metadata": {},
          "execution_count": 88
        }
      ]
    },
    {
      "cell_type": "code",
      "source": [
        "#Stop words present in the library\n",
        "stopwords = nltk.corpus.stopwords.words('english')"
      ],
      "metadata": {
        "id": "vKt4A7MnoSdj"
      },
      "execution_count": 89,
      "outputs": []
    },
    {
      "cell_type": "code",
      "source": [
        "##The function for remove stopwords in dataset\n",
        "def remove_stopwords(text):\n",
        "    output= ' '.join([word for word in text.split() if word not in stopwords])\n",
        "    return output"
      ],
      "metadata": {
        "id": "LRrsN8uLoWEb"
      },
      "execution_count": 90,
      "outputs": []
    },
    {
      "cell_type": "code",
      "source": [
        "df['no_stopword']= df['clean'].apply(lambda x:remove_stopwords(x))"
      ],
      "metadata": {
        "id": "ex2r8sO3odiN"
      },
      "execution_count": 93,
      "outputs": []
    },
    {
      "cell_type": "code",
      "source": [
        "df['no_stopword']"
      ],
      "metadata": {
        "colab": {
          "base_uri": "https://localhost:8080/"
        },
        "id": "PbKpeLYMos0D",
        "outputId": "754a7314-dc9b-4e18-c41d-1ff3dc4d68f1"
      },
      "execution_count": 94,
      "outputs": [
        {
          "output_type": "execute_result",
          "data": {
            "text/plain": [
              "0                               als red blacks live right\n",
              "1                 rigged election cause civil war opinion\n",
              "2              fucking love sorry offer job union laborer\n",
              "3                                      steaming load shit\n",
              "4                  rule man fucking flip flops everything\n",
              "                              ...                        \n",
              "7596    calling everyone surround mikes refrigerator f...\n",
              "7597    lmfao going hit chic tell realized chic dont w...\n",
              "7598                           amazing ann got much wrong\n",
              "7599    lol little anthony drew attention himselfmight...\n",
              "7600                            bumper sticker free tommy\n",
              "Name: no_stopword, Length: 7601, dtype: object"
            ]
          },
          "metadata": {},
          "execution_count": 94
        }
      ]
    },
    {
      "cell_type": "code",
      "source": [
        "#from sklearn.feature_extraction.text import TfidfVectorizer\n",
        "#tfidf = TfidfVectorizer(ngram_range=(1,1), stop_words = 'english', min_df = 0)\n",
        "#tfidf.fit_transform(df['no_stopword'])"
      ],
      "metadata": {
        "colab": {
          "base_uri": "https://localhost:8080/"
        },
        "id": "6QGz5Gj4qWJA",
        "outputId": "7c6dc7ad-e169-46fa-c0f2-6baf084d6749"
      },
      "execution_count": 101,
      "outputs": [
        {
          "output_type": "execute_result",
          "data": {
            "text/plain": [
              "<7601x14254 sparse matrix of type '<class 'numpy.float64'>'\n",
              "\twith 56115 stored elements in Compressed Sparse Row format>"
            ]
          },
          "metadata": {},
          "execution_count": 101
        }
      ]
    },
    {
      "cell_type": "code",
      "source": [
        "from sklearn.feature_extraction.text import CountVectorizer\n",
        "from sklearn.feature_extraction.text import TfidfVectorizer\n",
        "vectorizer = CountVectorizer(min_df=0.05, max_df=0.95,)\n",
        "X = vectorizer.fit_transform(df['no_stopword']).toarray()"
      ],
      "metadata": {
        "id": "E1lAXYwVqn9f"
      },
      "execution_count": 107,
      "outputs": []
    },
    {
      "cell_type": "code",
      "source": [
        "X"
      ],
      "metadata": {
        "colab": {
          "base_uri": "https://localhost:8080/"
        },
        "id": "pE38N2pqqy9O",
        "outputId": "a4cc499b-272f-4828-b4d3-1ed837d7a0c8"
      },
      "execution_count": 108,
      "outputs": [
        {
          "output_type": "execute_result",
          "data": {
            "text/plain": [
              "array([[0, 0, 0],\n",
              "       [0, 0, 0],\n",
              "       [0, 0, 0],\n",
              "       ...,\n",
              "       [0, 0, 0],\n",
              "       [0, 1, 0],\n",
              "       [0, 0, 0]])"
            ]
          },
          "metadata": {},
          "execution_count": 108
        }
      ]
    },
    {
      "cell_type": "code",
      "source": [
        "from tkinter import YView\n",
        "from sklearn.feature_extraction.text import TfidfVectorizer\n",
        "tfidfconverter = TfidfVectorizer(min_df=0.05, max_df=0.95)\n",
        "Y = tfidfconverter.fit_transform(df['no_stopword']).toarray()"
      ],
      "metadata": {
        "id": "ouZMQG4irJES"
      },
      "execution_count": 110,
      "outputs": []
    },
    {
      "cell_type": "code",
      "source": [
        "Y"
      ],
      "metadata": {
        "colab": {
          "base_uri": "https://localhost:8080/"
        },
        "id": "um4cJx8KrTt9",
        "outputId": "14d30884-a721-40f8-ed3c-1aefdcc75eeb"
      },
      "execution_count": 112,
      "outputs": [
        {
          "output_type": "execute_result",
          "data": {
            "text/plain": [
              "array([[0., 0., 0.],\n",
              "       [0., 0., 0.],\n",
              "       [0., 0., 0.],\n",
              "       ...,\n",
              "       [0., 0., 0.],\n",
              "       [0., 1., 0.],\n",
              "       [0., 0., 0.]])"
            ]
          },
          "metadata": {},
          "execution_count": 112
        }
      ]
    },
    {
      "cell_type": "code",
      "source": [
        "from sklearn.cluster import KMeans\n",
        "import numpy as np"
      ],
      "metadata": {
        "id": "jZCL9AkyrX5u"
      },
      "execution_count": 113,
      "outputs": []
    },
    {
      "cell_type": "code",
      "source": [
        "km=KMeans(n_clusters=3, random_state=0)\n",
        "km.fit(X)\n",
        "y_cluster=km.predict(X)\n",
        "y_cluster"
      ],
      "metadata": {
        "colab": {
          "base_uri": "https://localhost:8080/"
        },
        "id": "iAZ7Hjk-rcX5",
        "outputId": "54f3fd98-b666-4e3c-8f25-acfd00d3d609"
      },
      "execution_count": 118,
      "outputs": [
        {
          "output_type": "execute_result",
          "data": {
            "text/plain": [
              "array([0, 0, 0, ..., 0, 0, 0], dtype=int32)"
            ]
          },
          "metadata": {},
          "execution_count": 118
        }
      ]
    },
    {
      "cell_type": "code",
      "source": [
        "#Count Cluster\n",
        "from collections import Counter\n",
        "cnt=Counter(y_cluster)\n",
        "cnt"
      ],
      "metadata": {
        "colab": {
          "base_uri": "https://localhost:8080/"
        },
        "id": "vMlZmGGds0bG",
        "outputId": "0c25cec5-6d8b-421c-ad39-f73f76f9a18c"
      },
      "execution_count": 119,
      "outputs": [
        {
          "output_type": "execute_result",
          "data": {
            "text/plain": [
              "Counter({0: 7178, 2: 417, 1: 6})"
            ]
          },
          "metadata": {},
          "execution_count": 119
        }
      ]
    }
  ]
}