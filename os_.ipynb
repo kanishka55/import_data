{
  "nbformat": 4,
  "nbformat_minor": 0,
  "metadata": {
    "colab": {
      "provenance": [],
      "collapsed_sections": [],
      "authorship_tag": "ABX9TyMV4JlgyEI6arRuh/W5RoO6",
      "include_colab_link": true
    },
    "kernelspec": {
      "name": "python3",
      "display_name": "Python 3"
    },
    "language_info": {
      "name": "python"
    }
  },
  "cells": [
    {
      "cell_type": "markdown",
      "metadata": {
        "id": "view-in-github",
        "colab_type": "text"
      },
      "source": [
        "<a href=\"https://colab.research.google.com/github/kanishka55/import_data/blob/main/os_.ipynb\" target=\"_parent\"><img src=\"https://colab.research.google.com/assets/colab-badge.svg\" alt=\"Open In Colab\"/></a>"
      ]
    },
    {
      "cell_type": "code",
      "source": [
        "from google.colab import drive\n",
        "drive.mount('/content/drive')"
      ],
      "metadata": {
        "colab": {
          "base_uri": "https://localhost:8080/"
        },
        "id": "j4bNPZVEQ5wA",
        "outputId": "7aa05c08-fb13-471f-c447-f2889f3942e6"
      },
      "execution_count": null,
      "outputs": [
        {
          "output_type": "stream",
          "name": "stdout",
          "text": [
            "Drive already mounted at /content/drive; to attempt to forcibly remount, call drive.mount(\"/content/drive\", force_remount=True).\n"
          ]
        }
      ]
    },
    {
      "cell_type": "code",
      "source": [
        "!wget https://github.com/filipefilardi/text-classification/blob/main/data/processed/20newsgroup_preprocessed.csv?raw=true"
      ],
      "metadata": {
        "colab": {
          "base_uri": "https://localhost:8080/"
        },
        "id": "ZrOmMcS7Q6p2",
        "outputId": "f0eae919-10e6-4ae2-c1b2-d45dcb2c9332"
      },
      "execution_count": null,
      "outputs": [
        {
          "output_type": "stream",
          "name": "stdout",
          "text": [
            "--2022-09-08 17:09:09--  https://github.com/filipefilardi/text-classification/blob/main/data/processed/20newsgroup_preprocessed.csv?raw=true\n",
            "Resolving github.com (github.com)... 140.82.112.4\n",
            "Connecting to github.com (github.com)|140.82.112.4|:443... connected.\n",
            "HTTP request sent, awaiting response... 302 Found\n",
            "Location: https://github.com/filipefilardi/text-classification/raw/main/data/processed/20newsgroup_preprocessed.csv [following]\n",
            "--2022-09-08 17:09:10--  https://github.com/filipefilardi/text-classification/raw/main/data/processed/20newsgroup_preprocessed.csv\n",
            "Reusing existing connection to github.com:443.\n",
            "HTTP request sent, awaiting response... 302 Found\n",
            "Location: https://raw.githubusercontent.com/filipefilardi/text-classification/main/data/processed/20newsgroup_preprocessed.csv [following]\n",
            "--2022-09-08 17:09:10--  https://raw.githubusercontent.com/filipefilardi/text-classification/main/data/processed/20newsgroup_preprocessed.csv\n",
            "Resolving raw.githubusercontent.com (raw.githubusercontent.com)... 185.199.108.133, 185.199.109.133, 185.199.110.133, ...\n",
            "Connecting to raw.githubusercontent.com (raw.githubusercontent.com)|185.199.108.133|:443... connected.\n",
            "HTTP request sent, awaiting response... 200 OK\n",
            "Length: 52687864 (50M) [text/plain]\n",
            "Saving to: ‘20newsgroup_preprocessed.csv?raw=true.2’\n",
            "\n",
            "20newsgroup_preproc 100%[===================>]  50.25M   199MB/s    in 0.3s    \n",
            "\n",
            "2022-09-08 17:09:10 (199 MB/s) - ‘20newsgroup_preprocessed.csv?raw=true.2’ saved [52687864/52687864]\n",
            "\n"
          ]
        }
      ]
    },
    {
      "cell_type": "code",
      "source": [
        "import pandas as pd\n"
      ],
      "metadata": {
        "id": "9368N6iARG-J"
      },
      "execution_count": null,
      "outputs": []
    },
    {
      "cell_type": "code",
      "source": [
        "data = pd.read_csv('/content/20newsgroup_preprocessed.csv?raw=true',sep=';' )"
      ],
      "metadata": {
        "id": "-L9rpsVmRgwO"
      },
      "execution_count": null,
      "outputs": []
    },
    {
      "cell_type": "code",
      "source": [
        "data"
      ],
      "metadata": {
        "colab": {
          "base_uri": "https://localhost:8080/",
          "height": 424
        },
        "id": "hbOgT7GLRpbW",
        "outputId": "bc93afc1-8a8c-4dee-d53c-499d600447c1"
      },
      "execution_count": null,
      "outputs": [
        {
          "output_type": "execute_result",
          "data": {
            "text/plain": [
              "                   target                                               text  \\\n",
              "0             alt.atheism  From: mathew <mathew@mantis.co.uk>\\nSubject: A...   \n",
              "1             alt.atheism  From: mathew <mathew@mantis.co.uk>\\nSubject: A...   \n",
              "2             alt.atheism  From: I3150101@dbstu1.rz.tu-bs.de (Benedikt Ro...   \n",
              "3             alt.atheism  From: mathew <mathew@mantis.co.uk>\\nSubject: R...   \n",
              "4             alt.atheism  From: strom@Watson.Ibm.Com (Rob Strom)\\nSubjec...   \n",
              "...                   ...                                                ...   \n",
              "18823  talk.religion.misc  From: sbuckley@fraser.sfu.ca (Stephen Buckley)...   \n",
              "18824  talk.religion.misc  From: bakerj@gtephx.UUCP (Jon Baker)\\nSubject:...   \n",
              "18825  talk.religion.misc  From: pharvey@quack.kfu.com (Paul Harvey)\\nSub...   \n",
              "18826  talk.religion.misc  From: <KEVXU@CUNYVM.BITNET>\\nSubject: Re: Info...   \n",
              "18827  talk.religion.misc  From: pharvey@quack.kfu.com (Paul Harvey)\\nSub...   \n",
              "\n",
              "                                            text_cleaned  \n",
              "0      atheist resources addresses atheist organizati...  \n",
              "1      begin pgp signed message introduction atheism ...  \n",
              "2      article charley wingate writes well john quite...  \n",
              "3      kings become philosophers philosophers become ...  \n",
              "4      article bob mcgwier writes however hate econom...  \n",
              "...                                                  ...  \n",
              "18823  paul boxrud writes wasnt sure right newsgroup ...  \n",
              "18824  article joakim ruud writes article mark wilson...  \n",
              "18825  article bill jefferys writes would like unders...  \n",
              "18826  article gerry palo danger anticult groups expo...  \n",
              "18827  article bill conner writes keith ryan wrote ma...  \n",
              "\n",
              "[18828 rows x 3 columns]"
            ],
            "text/html": [
              "\n",
              "  <div id=\"df-6bed627f-ac3a-41b1-8e03-b53775b08a5e\">\n",
              "    <div class=\"colab-df-container\">\n",
              "      <div>\n",
              "<style scoped>\n",
              "    .dataframe tbody tr th:only-of-type {\n",
              "        vertical-align: middle;\n",
              "    }\n",
              "\n",
              "    .dataframe tbody tr th {\n",
              "        vertical-align: top;\n",
              "    }\n",
              "\n",
              "    .dataframe thead th {\n",
              "        text-align: right;\n",
              "    }\n",
              "</style>\n",
              "<table border=\"1\" class=\"dataframe\">\n",
              "  <thead>\n",
              "    <tr style=\"text-align: right;\">\n",
              "      <th></th>\n",
              "      <th>target</th>\n",
              "      <th>text</th>\n",
              "      <th>text_cleaned</th>\n",
              "    </tr>\n",
              "  </thead>\n",
              "  <tbody>\n",
              "    <tr>\n",
              "      <th>0</th>\n",
              "      <td>alt.atheism</td>\n",
              "      <td>From: mathew &lt;mathew@mantis.co.uk&gt;\\nSubject: A...</td>\n",
              "      <td>atheist resources addresses atheist organizati...</td>\n",
              "    </tr>\n",
              "    <tr>\n",
              "      <th>1</th>\n",
              "      <td>alt.atheism</td>\n",
              "      <td>From: mathew &lt;mathew@mantis.co.uk&gt;\\nSubject: A...</td>\n",
              "      <td>begin pgp signed message introduction atheism ...</td>\n",
              "    </tr>\n",
              "    <tr>\n",
              "      <th>2</th>\n",
              "      <td>alt.atheism</td>\n",
              "      <td>From: I3150101@dbstu1.rz.tu-bs.de (Benedikt Ro...</td>\n",
              "      <td>article charley wingate writes well john quite...</td>\n",
              "    </tr>\n",
              "    <tr>\n",
              "      <th>3</th>\n",
              "      <td>alt.atheism</td>\n",
              "      <td>From: mathew &lt;mathew@mantis.co.uk&gt;\\nSubject: R...</td>\n",
              "      <td>kings become philosophers philosophers become ...</td>\n",
              "    </tr>\n",
              "    <tr>\n",
              "      <th>4</th>\n",
              "      <td>alt.atheism</td>\n",
              "      <td>From: strom@Watson.Ibm.Com (Rob Strom)\\nSubjec...</td>\n",
              "      <td>article bob mcgwier writes however hate econom...</td>\n",
              "    </tr>\n",
              "    <tr>\n",
              "      <th>...</th>\n",
              "      <td>...</td>\n",
              "      <td>...</td>\n",
              "      <td>...</td>\n",
              "    </tr>\n",
              "    <tr>\n",
              "      <th>18823</th>\n",
              "      <td>talk.religion.misc</td>\n",
              "      <td>From: sbuckley@fraser.sfu.ca (Stephen Buckley)...</td>\n",
              "      <td>paul boxrud writes wasnt sure right newsgroup ...</td>\n",
              "    </tr>\n",
              "    <tr>\n",
              "      <th>18824</th>\n",
              "      <td>talk.religion.misc</td>\n",
              "      <td>From: bakerj@gtephx.UUCP (Jon Baker)\\nSubject:...</td>\n",
              "      <td>article joakim ruud writes article mark wilson...</td>\n",
              "    </tr>\n",
              "    <tr>\n",
              "      <th>18825</th>\n",
              "      <td>talk.religion.misc</td>\n",
              "      <td>From: pharvey@quack.kfu.com (Paul Harvey)\\nSub...</td>\n",
              "      <td>article bill jefferys writes would like unders...</td>\n",
              "    </tr>\n",
              "    <tr>\n",
              "      <th>18826</th>\n",
              "      <td>talk.religion.misc</td>\n",
              "      <td>From: &lt;KEVXU@CUNYVM.BITNET&gt;\\nSubject: Re: Info...</td>\n",
              "      <td>article gerry palo danger anticult groups expo...</td>\n",
              "    </tr>\n",
              "    <tr>\n",
              "      <th>18827</th>\n",
              "      <td>talk.religion.misc</td>\n",
              "      <td>From: pharvey@quack.kfu.com (Paul Harvey)\\nSub...</td>\n",
              "      <td>article bill conner writes keith ryan wrote ma...</td>\n",
              "    </tr>\n",
              "  </tbody>\n",
              "</table>\n",
              "<p>18828 rows × 3 columns</p>\n",
              "</div>\n",
              "      <button class=\"colab-df-convert\" onclick=\"convertToInteractive('df-6bed627f-ac3a-41b1-8e03-b53775b08a5e')\"\n",
              "              title=\"Convert this dataframe to an interactive table.\"\n",
              "              style=\"display:none;\">\n",
              "        \n",
              "  <svg xmlns=\"http://www.w3.org/2000/svg\" height=\"24px\"viewBox=\"0 0 24 24\"\n",
              "       width=\"24px\">\n",
              "    <path d=\"M0 0h24v24H0V0z\" fill=\"none\"/>\n",
              "    <path d=\"M18.56 5.44l.94 2.06.94-2.06 2.06-.94-2.06-.94-.94-2.06-.94 2.06-2.06.94zm-11 1L8.5 8.5l.94-2.06 2.06-.94-2.06-.94L8.5 2.5l-.94 2.06-2.06.94zm10 10l.94 2.06.94-2.06 2.06-.94-2.06-.94-.94-2.06-.94 2.06-2.06.94z\"/><path d=\"M17.41 7.96l-1.37-1.37c-.4-.4-.92-.59-1.43-.59-.52 0-1.04.2-1.43.59L10.3 9.45l-7.72 7.72c-.78.78-.78 2.05 0 2.83L4 21.41c.39.39.9.59 1.41.59.51 0 1.02-.2 1.41-.59l7.78-7.78 2.81-2.81c.8-.78.8-2.07 0-2.86zM5.41 20L4 18.59l7.72-7.72 1.47 1.35L5.41 20z\"/>\n",
              "  </svg>\n",
              "      </button>\n",
              "      \n",
              "  <style>\n",
              "    .colab-df-container {\n",
              "      display:flex;\n",
              "      flex-wrap:wrap;\n",
              "      gap: 12px;\n",
              "    }\n",
              "\n",
              "    .colab-df-convert {\n",
              "      background-color: #E8F0FE;\n",
              "      border: none;\n",
              "      border-radius: 50%;\n",
              "      cursor: pointer;\n",
              "      display: none;\n",
              "      fill: #1967D2;\n",
              "      height: 32px;\n",
              "      padding: 0 0 0 0;\n",
              "      width: 32px;\n",
              "    }\n",
              "\n",
              "    .colab-df-convert:hover {\n",
              "      background-color: #E2EBFA;\n",
              "      box-shadow: 0px 1px 2px rgba(60, 64, 67, 0.3), 0px 1px 3px 1px rgba(60, 64, 67, 0.15);\n",
              "      fill: #174EA6;\n",
              "    }\n",
              "\n",
              "    [theme=dark] .colab-df-convert {\n",
              "      background-color: #3B4455;\n",
              "      fill: #D2E3FC;\n",
              "    }\n",
              "\n",
              "    [theme=dark] .colab-df-convert:hover {\n",
              "      background-color: #434B5C;\n",
              "      box-shadow: 0px 1px 3px 1px rgba(0, 0, 0, 0.15);\n",
              "      filter: drop-shadow(0px 1px 2px rgba(0, 0, 0, 0.3));\n",
              "      fill: #FFFFFF;\n",
              "    }\n",
              "  </style>\n",
              "\n",
              "      <script>\n",
              "        const buttonEl =\n",
              "          document.querySelector('#df-6bed627f-ac3a-41b1-8e03-b53775b08a5e button.colab-df-convert');\n",
              "        buttonEl.style.display =\n",
              "          google.colab.kernel.accessAllowed ? 'block' : 'none';\n",
              "\n",
              "        async function convertToInteractive(key) {\n",
              "          const element = document.querySelector('#df-6bed627f-ac3a-41b1-8e03-b53775b08a5e');\n",
              "          const dataTable =\n",
              "            await google.colab.kernel.invokeFunction('convertToInteractive',\n",
              "                                                     [key], {});\n",
              "          if (!dataTable) return;\n",
              "\n",
              "          const docLinkHtml = 'Like what you see? Visit the ' +\n",
              "            '<a target=\"_blank\" href=https://colab.research.google.com/notebooks/data_table.ipynb>data table notebook</a>'\n",
              "            + ' to learn more about interactive tables.';\n",
              "          element.innerHTML = '';\n",
              "          dataTable['output_type'] = 'display_data';\n",
              "          await google.colab.output.renderOutput(dataTable, element);\n",
              "          const docLink = document.createElement('div');\n",
              "          docLink.innerHTML = docLinkHtml;\n",
              "          element.appendChild(docLink);\n",
              "        }\n",
              "      </script>\n",
              "    </div>\n",
              "  </div>\n",
              "  "
            ]
          },
          "metadata": {},
          "execution_count": 146
        }
      ]
    },
    {
      "cell_type": "markdown",
      "source": [
        "LOwer"
      ],
      "metadata": {
        "id": "j8AoEYCkUITB"
      }
    },
    {
      "cell_type": "code",
      "source": [
        "name = \"Kanishka The\""
      ],
      "metadata": {
        "id": "nGYOhPmoRz8C"
      },
      "execution_count": null,
      "outputs": []
    },
    {
      "cell_type": "code",
      "source": [
        "name.lower()"
      ],
      "metadata": {
        "colab": {
          "base_uri": "https://localhost:8080/",
          "height": 36
        },
        "id": "ymlT807STynr",
        "outputId": "ab9c218d-93bf-44c1-a3b6-ece2e3c46dd5"
      },
      "execution_count": null,
      "outputs": [
        {
          "output_type": "execute_result",
          "data": {
            "text/plain": [
              "'kanishka the'"
            ],
            "application/vnd.google.colaboratory.intrinsic+json": {
              "type": "string"
            }
          },
          "metadata": {},
          "execution_count": 148
        }
      ]
    },
    {
      "cell_type": "code",
      "source": [
        "data['text']"
      ],
      "metadata": {
        "id": "nOPsza4eT22E",
        "colab": {
          "base_uri": "https://localhost:8080/"
        },
        "outputId": "8d2c116a-5a36-4e62-8b95-7ea5117955cf"
      },
      "execution_count": null,
      "outputs": [
        {
          "output_type": "execute_result",
          "data": {
            "text/plain": [
              "0        From: mathew <mathew@mantis.co.uk>\\nSubject: A...\n",
              "1        From: mathew <mathew@mantis.co.uk>\\nSubject: A...\n",
              "2        From: I3150101@dbstu1.rz.tu-bs.de (Benedikt Ro...\n",
              "3        From: mathew <mathew@mantis.co.uk>\\nSubject: R...\n",
              "4        From: strom@Watson.Ibm.Com (Rob Strom)\\nSubjec...\n",
              "                               ...                        \n",
              "18823    From: sbuckley@fraser.sfu.ca (Stephen Buckley)...\n",
              "18824    From: bakerj@gtephx.UUCP (Jon Baker)\\nSubject:...\n",
              "18825    From: pharvey@quack.kfu.com (Paul Harvey)\\nSub...\n",
              "18826    From: <KEVXU@CUNYVM.BITNET>\\nSubject: Re: Info...\n",
              "18827    From: pharvey@quack.kfu.com (Paul Harvey)\\nSub...\n",
              "Name: text, Length: 18828, dtype: object"
            ]
          },
          "metadata": {},
          "execution_count": 149
        }
      ]
    },
    {
      "cell_type": "markdown",
      "source": [
        "**REMOVE URLS**"
      ],
      "metadata": {
        "id": "VkZj0mWDY8rC"
      }
    },
    {
      "cell_type": "code",
      "source": [
        "##this function not removing urls\n",
        "import re\n",
        "def remove_urls(vTEXT):\n",
        "    vTEXT = re.sub(r'http\\S+', '', vTEXT, flags=re.MULTILINE)\n",
        "    return(vTEXT)"
      ],
      "metadata": {
        "id": "n6tptyzQNnB-"
      },
      "execution_count": null,
      "outputs": []
    },
    {
      "cell_type": "code",
      "source": [
        "data['no_url']= data['text'].apply(lambda x:remove_urls(x))"
      ],
      "metadata": {
        "id": "D-kFfs1nVANS"
      },
      "execution_count": null,
      "outputs": []
    },
    {
      "cell_type": "code",
      "source": [
        "data['no_url']"
      ],
      "metadata": {
        "colab": {
          "base_uri": "https://localhost:8080/"
        },
        "id": "T7BWYZ0xV8kc",
        "outputId": "bd90b81f-43cd-4b64-e6df-3b6dc47210f0"
      },
      "execution_count": null,
      "outputs": [
        {
          "output_type": "execute_result",
          "data": {
            "text/plain": [
              "0        From: mathew <mathew@mantis.co.uk>\\nSubject: A...\n",
              "1        From: mathew <mathew@mantis.co.uk>\\nSubject: A...\n",
              "2        From: I3150101@dbstu1.rz.tu-bs.de (Benedikt Ro...\n",
              "3        From: mathew <mathew@mantis.co.uk>\\nSubject: R...\n",
              "4        From: strom@Watson.Ibm.Com (Rob Strom)\\nSubjec...\n",
              "                               ...                        \n",
              "18823    From: sbuckley@fraser.sfu.ca (Stephen Buckley)...\n",
              "18824    From: bakerj@gtephx.UUCP (Jon Baker)\\nSubject:...\n",
              "18825    From: pharvey@quack.kfu.com (Paul Harvey)\\nSub...\n",
              "18826    From: <KEVXU@CUNYVM.BITNET>\\nSubject: Re: Info...\n",
              "18827    From: pharvey@quack.kfu.com (Paul Harvey)\\nSub...\n",
              "Name: no_url, Length: 18828, dtype: object"
            ]
          },
          "metadata": {},
          "execution_count": 153
        }
      ]
    },
    {
      "cell_type": "markdown",
      "source": [
        "remove url"
      ],
      "metadata": {
        "id": "JqEe5qjiYs5W"
      }
    },
    {
      "cell_type": "code",
      "source": [
        "##from this function can't remove urls \n",
        "def remove_URL(text):\n",
        "    \"\"\"Remove URLs from a text string\"\"\"\n",
        "    return re.sub(r\"http\\S+\", \"\", text)   ##THIS HAS A ERROR"
      ],
      "metadata": {
        "id": "YGdtUNMTW0JH"
      },
      "execution_count": null,
      "outputs": []
    },
    {
      "cell_type": "code",
      "source": [
        "import string\n",
        "string.punctuation"
      ],
      "metadata": {
        "colab": {
          "base_uri": "https://localhost:8080/",
          "height": 36
        },
        "id": "Tdzm5bD4TCUB",
        "outputId": "0c2ed016-090c-4836-ecf9-993fa7513a23"
      },
      "execution_count": null,
      "outputs": [
        {
          "output_type": "execute_result",
          "data": {
            "text/plain": [
              "'!\"#$%&\\'()*+,-./:;<=>?@[\\\\]^_`{|}~'"
            ],
            "application/vnd.google.colaboratory.intrinsic+json": {
              "type": "string"
            }
          },
          "metadata": {},
          "execution_count": 155
        }
      ]
    },
    {
      "cell_type": "code",
      "source": [
        "#defining the function to remove punctuation\n",
        "##def remove_punctuation(text):\n",
        "   ## punctuationfree=\"\".join([i for i in text if i not in string.punctuation])\n",
        "   ## return punctuationfree"
      ],
      "metadata": {
        "id": "YudZuYrUSv7e"
      },
      "execution_count": null,
      "outputs": []
    },
    {
      "cell_type": "code",
      "source": [
        "##data['puc-text'] = data['no_url'].apply(lambda x: remove_punctuation(x))"
      ],
      "metadata": {
        "id": "s2n0Oy_MZoyY"
      },
      "execution_count": null,
      "outputs": []
    },
    {
      "cell_type": "code",
      "source": [
        "data['puc-text']"
      ],
      "metadata": {
        "colab": {
          "base_uri": "https://localhost:8080/",
          "height": 501
        },
        "id": "LJ6iVCNbaEpb",
        "outputId": "3791f783-e12c-4e1e-c00b-154a91cce2fc"
      },
      "execution_count": null,
      "outputs": [
        {
          "output_type": "error",
          "ename": "KeyError",
          "evalue": "ignored",
          "traceback": [
            "\u001b[0;31m---------------------------------------------------------------------------\u001b[0m",
            "\u001b[0;31mKeyError\u001b[0m                                  Traceback (most recent call last)",
            "\u001b[0;32m/usr/local/lib/python3.7/dist-packages/pandas/core/indexes/base.py\u001b[0m in \u001b[0;36mget_loc\u001b[0;34m(self, key, method, tolerance)\u001b[0m\n\u001b[1;32m   3360\u001b[0m             \u001b[0;32mtry\u001b[0m\u001b[0;34m:\u001b[0m\u001b[0;34m\u001b[0m\u001b[0;34m\u001b[0m\u001b[0m\n\u001b[0;32m-> 3361\u001b[0;31m                 \u001b[0;32mreturn\u001b[0m \u001b[0mself\u001b[0m\u001b[0;34m.\u001b[0m\u001b[0m_engine\u001b[0m\u001b[0;34m.\u001b[0m\u001b[0mget_loc\u001b[0m\u001b[0;34m(\u001b[0m\u001b[0mcasted_key\u001b[0m\u001b[0;34m)\u001b[0m\u001b[0;34m\u001b[0m\u001b[0;34m\u001b[0m\u001b[0m\n\u001b[0m\u001b[1;32m   3362\u001b[0m             \u001b[0;32mexcept\u001b[0m \u001b[0mKeyError\u001b[0m \u001b[0;32mas\u001b[0m \u001b[0merr\u001b[0m\u001b[0;34m:\u001b[0m\u001b[0;34m\u001b[0m\u001b[0;34m\u001b[0m\u001b[0m\n",
            "\u001b[0;32m/usr/local/lib/python3.7/dist-packages/pandas/_libs/index.pyx\u001b[0m in \u001b[0;36mpandas._libs.index.IndexEngine.get_loc\u001b[0;34m()\u001b[0m\n",
            "\u001b[0;32m/usr/local/lib/python3.7/dist-packages/pandas/_libs/index.pyx\u001b[0m in \u001b[0;36mpandas._libs.index.IndexEngine.get_loc\u001b[0;34m()\u001b[0m\n",
            "\u001b[0;32mpandas/_libs/hashtable_class_helper.pxi\u001b[0m in \u001b[0;36mpandas._libs.hashtable.PyObjectHashTable.get_item\u001b[0;34m()\u001b[0m\n",
            "\u001b[0;32mpandas/_libs/hashtable_class_helper.pxi\u001b[0m in \u001b[0;36mpandas._libs.hashtable.PyObjectHashTable.get_item\u001b[0;34m()\u001b[0m\n",
            "\u001b[0;31mKeyError\u001b[0m: 'puc-text'",
            "\nThe above exception was the direct cause of the following exception:\n",
            "\u001b[0;31mKeyError\u001b[0m                                  Traceback (most recent call last)",
            "\u001b[0;32m<ipython-input-158-63b808ddaa87>\u001b[0m in \u001b[0;36m<module>\u001b[0;34m\u001b[0m\n\u001b[0;32m----> 1\u001b[0;31m \u001b[0mdata\u001b[0m\u001b[0;34m[\u001b[0m\u001b[0;34m'puc-text'\u001b[0m\u001b[0;34m]\u001b[0m\u001b[0;34m\u001b[0m\u001b[0;34m\u001b[0m\u001b[0m\n\u001b[0m",
            "\u001b[0;32m/usr/local/lib/python3.7/dist-packages/pandas/core/frame.py\u001b[0m in \u001b[0;36m__getitem__\u001b[0;34m(self, key)\u001b[0m\n\u001b[1;32m   3456\u001b[0m             \u001b[0;32mif\u001b[0m \u001b[0mself\u001b[0m\u001b[0;34m.\u001b[0m\u001b[0mcolumns\u001b[0m\u001b[0;34m.\u001b[0m\u001b[0mnlevels\u001b[0m \u001b[0;34m>\u001b[0m \u001b[0;36m1\u001b[0m\u001b[0;34m:\u001b[0m\u001b[0;34m\u001b[0m\u001b[0;34m\u001b[0m\u001b[0m\n\u001b[1;32m   3457\u001b[0m                 \u001b[0;32mreturn\u001b[0m \u001b[0mself\u001b[0m\u001b[0;34m.\u001b[0m\u001b[0m_getitem_multilevel\u001b[0m\u001b[0;34m(\u001b[0m\u001b[0mkey\u001b[0m\u001b[0;34m)\u001b[0m\u001b[0;34m\u001b[0m\u001b[0;34m\u001b[0m\u001b[0m\n\u001b[0;32m-> 3458\u001b[0;31m             \u001b[0mindexer\u001b[0m \u001b[0;34m=\u001b[0m \u001b[0mself\u001b[0m\u001b[0;34m.\u001b[0m\u001b[0mcolumns\u001b[0m\u001b[0;34m.\u001b[0m\u001b[0mget_loc\u001b[0m\u001b[0;34m(\u001b[0m\u001b[0mkey\u001b[0m\u001b[0;34m)\u001b[0m\u001b[0;34m\u001b[0m\u001b[0;34m\u001b[0m\u001b[0m\n\u001b[0m\u001b[1;32m   3459\u001b[0m             \u001b[0;32mif\u001b[0m \u001b[0mis_integer\u001b[0m\u001b[0;34m(\u001b[0m\u001b[0mindexer\u001b[0m\u001b[0;34m)\u001b[0m\u001b[0;34m:\u001b[0m\u001b[0;34m\u001b[0m\u001b[0;34m\u001b[0m\u001b[0m\n\u001b[1;32m   3460\u001b[0m                 \u001b[0mindexer\u001b[0m \u001b[0;34m=\u001b[0m \u001b[0;34m[\u001b[0m\u001b[0mindexer\u001b[0m\u001b[0;34m]\u001b[0m\u001b[0;34m\u001b[0m\u001b[0;34m\u001b[0m\u001b[0m\n",
            "\u001b[0;32m/usr/local/lib/python3.7/dist-packages/pandas/core/indexes/base.py\u001b[0m in \u001b[0;36mget_loc\u001b[0;34m(self, key, method, tolerance)\u001b[0m\n\u001b[1;32m   3361\u001b[0m                 \u001b[0;32mreturn\u001b[0m \u001b[0mself\u001b[0m\u001b[0;34m.\u001b[0m\u001b[0m_engine\u001b[0m\u001b[0;34m.\u001b[0m\u001b[0mget_loc\u001b[0m\u001b[0;34m(\u001b[0m\u001b[0mcasted_key\u001b[0m\u001b[0;34m)\u001b[0m\u001b[0;34m\u001b[0m\u001b[0;34m\u001b[0m\u001b[0m\n\u001b[1;32m   3362\u001b[0m             \u001b[0;32mexcept\u001b[0m \u001b[0mKeyError\u001b[0m \u001b[0;32mas\u001b[0m \u001b[0merr\u001b[0m\u001b[0;34m:\u001b[0m\u001b[0;34m\u001b[0m\u001b[0;34m\u001b[0m\u001b[0m\n\u001b[0;32m-> 3363\u001b[0;31m                 \u001b[0;32mraise\u001b[0m \u001b[0mKeyError\u001b[0m\u001b[0;34m(\u001b[0m\u001b[0mkey\u001b[0m\u001b[0;34m)\u001b[0m \u001b[0;32mfrom\u001b[0m \u001b[0merr\u001b[0m\u001b[0;34m\u001b[0m\u001b[0;34m\u001b[0m\u001b[0m\n\u001b[0m\u001b[1;32m   3364\u001b[0m \u001b[0;34m\u001b[0m\u001b[0m\n\u001b[1;32m   3365\u001b[0m         \u001b[0;32mif\u001b[0m \u001b[0mis_scalar\u001b[0m\u001b[0;34m(\u001b[0m\u001b[0mkey\u001b[0m\u001b[0;34m)\u001b[0m \u001b[0;32mand\u001b[0m \u001b[0misna\u001b[0m\u001b[0;34m(\u001b[0m\u001b[0mkey\u001b[0m\u001b[0;34m)\u001b[0m \u001b[0;32mand\u001b[0m \u001b[0;32mnot\u001b[0m \u001b[0mself\u001b[0m\u001b[0;34m.\u001b[0m\u001b[0mhasnans\u001b[0m\u001b[0;34m:\u001b[0m\u001b[0;34m\u001b[0m\u001b[0;34m\u001b[0m\u001b[0m\n",
            "\u001b[0;31mKeyError\u001b[0m: 'puc-text'"
          ]
        }
      ]
    },
    {
      "cell_type": "code",
      "source": [
        "##this also can't remove urls\n",
        "def remove_URL(sample):\n",
        "    \"\"\"Remove URLs from a sample string\"\"\"\n",
        "    return re.sub(r\"http://\\S+|https://\\S+\", \"\", sample)"
      ],
      "metadata": {
        "id": "7T8kavJnegft"
      },
      "execution_count": null,
      "outputs": []
    },
    {
      "cell_type": "code",
      "source": [
        "data['no_url']= data['text'].apply(lambda x:remove_URL(x))"
      ],
      "metadata": {
        "id": "Q_5lmOjyhaw6"
      },
      "execution_count": null,
      "outputs": []
    },
    {
      "cell_type": "code",
      "source": [
        "data['no_url']"
      ],
      "metadata": {
        "colab": {
          "base_uri": "https://localhost:8080/"
        },
        "id": "ZurYbLyhhhm5",
        "outputId": "5adc4994-beb1-4f4b-9663-9b59a4976dd2"
      },
      "execution_count": null,
      "outputs": [
        {
          "output_type": "execute_result",
          "data": {
            "text/plain": [
              "0        From: mathew <mathew@mantis.co.uk>\\nSubject: A...\n",
              "1        From: mathew <mathew@mantis.co.uk>\\nSubject: A...\n",
              "2        From: I3150101@dbstu1.rz.tu-bs.de (Benedikt Ro...\n",
              "3        From: mathew <mathew@mantis.co.uk>\\nSubject: R...\n",
              "4        From: strom@Watson.Ibm.Com (Rob Strom)\\nSubjec...\n",
              "                               ...                        \n",
              "18823    From: sbuckley@fraser.sfu.ca (Stephen Buckley)...\n",
              "18824    From: bakerj@gtephx.UUCP (Jon Baker)\\nSubject:...\n",
              "18825    From: pharvey@quack.kfu.com (Paul Harvey)\\nSub...\n",
              "18826    From: <KEVXU@CUNYVM.BITNET>\\nSubject: Re: Info...\n",
              "18827    From: pharvey@quack.kfu.com (Paul Harvey)\\nSub...\n",
              "Name: no_url, Length: 18828, dtype: object"
            ]
          },
          "metadata": {},
          "execution_count": 161
        }
      ]
    },
    {
      "cell_type": "markdown",
      "source": [
        "**function in this will work for email removing fullow this link**\n",
        "https://stackoverflow.com/questions/1487789/regular-expression-for-domain-from-email-address"
      ],
      "metadata": {
        "id": "ogKryHsv_oYY"
      }
    },
    {
      "cell_type": "markdown",
      "source": [
        "This is a general-purpose e-mail matcher:"
      ],
      "metadata": {
        "id": "25a8vwg6BJL8"
      }
    },
    {
      "cell_type": "code",
      "source": [
        "re_url = re.compile(r'(?:http|ftp|https)://(?:[\\\\w_-]+(?:(?:\\\\.[\\\\w_-]+)+))(?:[\\\\w.,@?^=%&:/~+#-]*[\\\\w@?^=%&/~+#-])?')\n",
        "re_email = re.compile(r'[a-zA-Z][\\w\\.-]*[a-zA-Z0-9]@([a-zA-Z0-9][\\w\\.-]*[a-zA-Z0-9]\\.[a-zA-Z][a-zA-Z\\.]*[a-zA-Z])')\n",
        "re2_email = re.compile(r'(?:[a-z0-9!#$%&*+/=?^_`{|}~-]+(?:\\.[a-z0-9!#$%&*+/=?^_`{|}~-]+)*|\"(?:[\\x01-\\x08\\x0b\\x0c\\x0e-\\x1f\\x21\\x23-\\x5b\\x5d-\\x7f]|\\\\[\\x01-\\x09\\x0b\\x0c\\x0e-\\x7f])*\")@(?:(?:[a-z0-9](?:[a-z0-9-]*[a-z0-9])?\\.)+[a-z0-9](?:[a-z0-9-]*[a-z0-9])?|\\[(?:(?:(2(5[0-5]|[0-4][0-9])|1[0-9][0-9]|[1-9]?[0-9]))\\.){3}(?:(2(5[0-5]|[0-4][0-9])|1[0-9][0-9]|[1-9]?[0-9])|[a-z0-9-]*[a-z0-9]:(?:[\\x01-\\x08\\x0b\\x0c\\x0e-\\x1f\\x21-\\x5a\\x53-\\x7f]|\\\\[\\x01-\\x09\\x0b\\x0c\\x0e-\\x7f])+)\\])')"
      ],
      "metadata": {
        "id": "VzAIs45P_ePf"
      },
      "execution_count": null,
      "outputs": []
    },
    {
      "cell_type": "markdown",
      "source": [
        "this is 100% work for removing email address and urls"
      ],
      "metadata": {
        "id": "swcTw9FCDoyS"
      }
    },
    {
      "cell_type": "markdown",
      "source": [
        "this function removing special headers like from: subject: in the text data"
      ],
      "metadata": {
        "id": "dRkGfaptVVhb"
      }
    },
    {
      "cell_type": "code",
      "source": [
        "def clean_header(text):\n",
        "    text = re.sub(r'(From:\\s+[^\\n]+\\n)', '', text)\n",
        "    text = re.sub(r'(Subject:[^\\n]+\\n)', '', text)\n",
        "    text = re.sub(r'(([\\sA-Za-z0-9\\-]+)?[A|a]rchive-name:[^\\n]+\\n)', '', text)\n",
        "    text = re.sub(r'(Last-modified:[^\\n]+\\n)', '', text)\n",
        "    text = re.sub(r'(version:[^\\n]+\\n)', '', text)\n",
        "\n",
        "    return text"
      ],
      "metadata": {
        "id": "LhoUpw4VVTB3"
      },
      "execution_count": null,
      "outputs": []
    },
    {
      "cell_type": "code",
      "source": [
        "data['headers_cleaned'] = data['text'].apply(lambda x: clean_header(x))"
      ],
      "metadata": {
        "id": "WB-YsyfZVx2r"
      },
      "execution_count": null,
      "outputs": []
    },
    {
      "cell_type": "code",
      "source": [
        "data['headers_cleaned']"
      ],
      "metadata": {
        "colab": {
          "base_uri": "https://localhost:8080/"
        },
        "id": "EYHNDKMPiTcm",
        "outputId": "f1886eed-d7f1-4461-d9f8-a6e409c8512e"
      },
      "execution_count": null,
      "outputs": [
        {
          "output_type": "execute_result",
          "data": {
            "text/plain": [
              "0        Version: 1.0\\n\\n                              ...\n",
              "1        Version: 1.2\\n\\n-----BEGIN PGP SIGNED MESSAGE-...\n",
              "2        \\nIn article <65974@mimsy.umd.edu>\\nmangoe@cs....\n",
              "3        \\ndmn@kepler.unh.edu (...until kings become ph...\n",
              "4        \\nIn article <N4HY.93Apr5120934@harder.ccr-p.i...\n",
              "                               ...                        \n",
              "18823    \\npboxrud@magnus.acs.ohio-state.edu (Paul D Bo...\n",
              "18824    \\nIn article <1993Apr23.111105.7703@ifi.uio.no...\n",
              "18825    \\nIn article <1rc1f3INN7rl@emx.cc.utexas.edu> ...\n",
              "18826    \\n\\nIn article <1993Apr26.231845.13843@digi.lo...\n",
              "18827    \\nIn article <C64H4w.BFH@darkside.osrhe.uoknor...\n",
              "Name: headers_cleaned, Length: 18828, dtype: object"
            ]
          },
          "metadata": {},
          "execution_count": 165
        }
      ]
    },
    {
      "cell_type": "code",
      "source": [
        "def clean_text(text):\n",
        "  text = text.lower()\n",
        "  text = text.strip()  ##to remove the whitespace from the beginning and at the end of the string\n",
        "  text = re.sub(re_url, '', text)\n",
        "  text = re.sub(re_email, '', text)\n",
        "  text = re.sub(re2_email, '', text)\n",
        "  text = re.sub(f'[{re.escape(string.punctuation)}]', '', text) ##REMOVE FOR re\n",
        "  text = re.sub(r'(\\d+)', ' ', text)\n",
        "  text = re.sub(r'(\\s+)', ' ', text)\n",
        "  return text\n"
      ],
      "metadata": {
        "id": "1cA1da6vBRYx"
      },
      "execution_count": null,
      "outputs": []
    },
    {
      "cell_type": "code",
      "source": [
        "data['newno_url'] = data['headers_cleaned'].apply(lambda x:clean_text(x))"
      ],
      "metadata": {
        "id": "uBI0qMgTCt8B"
      },
      "execution_count": null,
      "outputs": []
    },
    {
      "cell_type": "code",
      "source": [
        "data['newno_url']"
      ],
      "metadata": {
        "colab": {
          "base_uri": "https://localhost:8080/"
        },
        "id": "KWTvSZW2Dg1R",
        "outputId": "7cec44f0-dc7c-4889-a19a-e20050a81b5f"
      },
      "execution_count": null,
      "outputs": [
        {
          "output_type": "execute_result",
          "data": {
            "text/plain": [
              "0        version atheist resources addresses of atheist...\n",
              "1        version begin pgp signed message an introducti...\n",
              "2        in article charley wingate writes well john ha...\n",
              "3         until kings become philosophers or philosophe...\n",
              "4        in article bob mcgwier writes however i hate e...\n",
              "                               ...                        \n",
              "18823     paul d boxrud writes i wasnt sure if this was...\n",
              "18824    in article joakim ruud writes in article mark ...\n",
              "18825    in article bill jefferys writes if you would l...\n",
              "18826    in article gerry palo the danger of anticult g...\n",
              "18827    in article bill conner writes keith m ryan wro...\n",
              "Name: newno_url, Length: 18828, dtype: object"
            ]
          },
          "metadata": {},
          "execution_count": 168
        }
      ]
    },
    {
      "cell_type": "code",
      "source": [
        "import string\n",
        "string.punctuation"
      ],
      "metadata": {
        "colab": {
          "base_uri": "https://localhost:8080/",
          "height": 36
        },
        "id": "gDVzcx-3UpuB",
        "outputId": "af455cbc-054e-4045-a88f-d68cf0ba0744"
      },
      "execution_count": null,
      "outputs": [
        {
          "output_type": "execute_result",
          "data": {
            "text/plain": [
              "'!\"#$%&\\'()*+,-./:;<=>?@[\\\\]^_`{|}~'"
            ],
            "application/vnd.google.colaboratory.intrinsic+json": {
              "type": "string"
            }
          },
          "metadata": {},
          "execution_count": 169
        }
      ]
    },
    {
      "cell_type": "code",
      "source": [
        "#defining the function to remove punctuation\n",
        "def remove_punctuation(text):\n",
        "    punctuationfree=''.join([i for i in text if i not in string.punctuation])\n",
        "    return punctuationfree"
      ],
      "metadata": {
        "id": "7SVUKJZoU2Jb"
      },
      "execution_count": null,
      "outputs": []
    },
    {
      "cell_type": "code",
      "source": [
        "data['puc-text'] = data['newno_url'].apply(lambda x: remove_punctuation(x))"
      ],
      "metadata": {
        "id": "C0pkxAunU-Od"
      },
      "execution_count": null,
      "outputs": []
    },
    {
      "cell_type": "code",
      "source": [
        "data['puc-text']"
      ],
      "metadata": {
        "colab": {
          "base_uri": "https://localhost:8080/"
        },
        "id": "ytkhhNRrfChm",
        "outputId": "4364fc59-3c67-45b0-a153-8cb473280fd0"
      },
      "execution_count": null,
      "outputs": [
        {
          "output_type": "execute_result",
          "data": {
            "text/plain": [
              "0        version atheist resources addresses of atheist...\n",
              "1        version begin pgp signed message an introducti...\n",
              "2        in article charley wingate writes well john ha...\n",
              "3         until kings become philosophers or philosophe...\n",
              "4        in article bob mcgwier writes however i hate e...\n",
              "                               ...                        \n",
              "18823     paul d boxrud writes i wasnt sure if this was...\n",
              "18824    in article joakim ruud writes in article mark ...\n",
              "18825    in article bill jefferys writes if you would l...\n",
              "18826    in article gerry palo the danger of anticult g...\n",
              "18827    in article bill conner writes keith m ryan wro...\n",
              "Name: puc-text, Length: 18828, dtype: object"
            ]
          },
          "metadata": {},
          "execution_count": 172
        }
      ]
    },
    {
      "cell_type": "code",
      "source": [
        "#importing nlp library\n",
        "import nltk\n",
        "nltk.download('stopwords')"
      ],
      "metadata": {
        "colab": {
          "base_uri": "https://localhost:8080/"
        },
        "id": "NS3LMyhMkIFc",
        "outputId": "f924798e-8946-42e7-83a5-9905da4d6398"
      },
      "execution_count": null,
      "outputs": [
        {
          "output_type": "stream",
          "name": "stderr",
          "text": [
            "[nltk_data] Downloading package stopwords to /root/nltk_data...\n",
            "[nltk_data]   Package stopwords is already up-to-date!\n"
          ]
        },
        {
          "output_type": "execute_result",
          "data": {
            "text/plain": [
              "True"
            ]
          },
          "metadata": {},
          "execution_count": 173
        }
      ]
    },
    {
      "cell_type": "code",
      "source": [
        "#Stop words present in the library\n",
        "stopwords = nltk.corpus.stopwords.words('english')\n",
        "stopwords[0:20]"
      ],
      "metadata": {
        "colab": {
          "base_uri": "https://localhost:8080/"
        },
        "id": "R1aP58jrkJ48",
        "outputId": "002238e1-3df9-40e9-cc62-c08d8fe5f3c7"
      },
      "execution_count": null,
      "outputs": [
        {
          "output_type": "execute_result",
          "data": {
            "text/plain": [
              "['i',\n",
              " 'me',\n",
              " 'my',\n",
              " 'myself',\n",
              " 'we',\n",
              " 'our',\n",
              " 'ours',\n",
              " 'ourselves',\n",
              " 'you',\n",
              " \"you're\",\n",
              " \"you've\",\n",
              " \"you'll\",\n",
              " \"you'd\",\n",
              " 'your',\n",
              " 'yours',\n",
              " 'yourself',\n",
              " 'yourselves',\n",
              " 'he',\n",
              " 'him',\n",
              " 'his']"
            ]
          },
          "metadata": {},
          "execution_count": 174
        }
      ]
    },
    {
      "cell_type": "code",
      "source": [
        "##The function for remove stopwords in dataset\n",
        "def remove_stopwords(text):\n",
        "    output= ' '.join([word for word in text.split() if word not in stopwords])\n",
        "    return output"
      ],
      "metadata": {
        "id": "aNBjjtl8kTZN"
      },
      "execution_count": null,
      "outputs": []
    },
    {
      "cell_type": "code",
      "source": [
        "#applying the stopword function\n",
        "data['no_stopwords']= data['puc-text'].apply(lambda x:remove_stopwords(x))"
      ],
      "metadata": {
        "id": "nT5x0_XqkpGs"
      },
      "execution_count": null,
      "outputs": []
    },
    {
      "cell_type": "code",
      "source": [
        "data['no_stopwords']"
      ],
      "metadata": {
        "colab": {
          "base_uri": "https://localhost:8080/"
        },
        "id": "wS6JOBtsk1uO",
        "outputId": "320f84f2-7f55-41c8-8cb1-e12405e1bc61"
      },
      "execution_count": null,
      "outputs": [
        {
          "output_type": "execute_result",
          "data": {
            "text/plain": [
              "0        version atheist resources addresses atheist or...\n",
              "1        version begin pgp signed message introduction ...\n",
              "2        article charley wingate writes well john quite...\n",
              "3        kings become philosophers philosophers become ...\n",
              "4        article bob mcgwier writes however hate econom...\n",
              "                               ...                        \n",
              "18823    paul boxrud writes wasnt sure right newsgroup ...\n",
              "18824    article joakim ruud writes article mark wilson...\n",
              "18825    article bill jefferys writes would like unders...\n",
              "18826    article gerry palo danger anticult groups expo...\n",
              "18827    article bill conner writes keith ryan wrote ma...\n",
              "Name: no_stopwords, Length: 18828, dtype: object"
            ]
          },
          "metadata": {},
          "execution_count": 177
        }
      ]
    },
    {
      "cell_type": "code",
      "source": [
        "from sklearn.feature_extraction.text import CountVectorizer\n",
        "from sklearn.feature_extraction.text import TfidfVectorizer\n",
        "vectorizer = CountVectorizer(min_df=0.3, max_df=0.7,)\n",
        "X = vectorizer.fit_transform(data['no_stopwords']).toarray()"
      ],
      "metadata": {
        "id": "-N1Mg-UpBAL4"
      },
      "execution_count": null,
      "outputs": []
    },
    {
      "cell_type": "code",
      "source": [
        "X"
      ],
      "metadata": {
        "colab": {
          "base_uri": "https://localhost:8080/"
        },
        "id": "Aq7A6rQVBDVU",
        "outputId": "d33cc58b-7477-4ba0-f677-42e9f8ad3fb8"
      },
      "execution_count": null,
      "outputs": [
        {
          "output_type": "execute_result",
          "data": {
            "text/plain": [
              "array([[ 0,  1,  3,  0,  0],\n",
              "       [ 6,  6, 17,  7,  0],\n",
              "       [ 1,  1,  5,  4,  1],\n",
              "       ...,\n",
              "       [ 1,  1,  0,  1,  1],\n",
              "       [ 1,  0,  1,  0,  0],\n",
              "       [ 1,  0,  0,  1,  1]])"
            ]
          },
          "metadata": {},
          "execution_count": 124
        }
      ]
    },
    {
      "cell_type": "code",
      "source": [
        "from sklearn.feature_extraction.text import TfidfVectorizer\n",
        "tfidfconverter = TfidfVectorizer(min_df=0.3, max_df=0.7)\n",
        "X = tfidfconverter.fit_transform(data['no_stopwords']).toarray()"
      ],
      "metadata": {
        "id": "nNAR6mJUCVOQ"
      },
      "execution_count": null,
      "outputs": []
    },
    {
      "cell_type": "code",
      "source": [
        "X"
      ],
      "metadata": {
        "colab": {
          "base_uri": "https://localhost:8080/"
        },
        "id": "trMn-o7CDtmq",
        "outputId": "676a9495-8461-45a3-e237-dd6b32cb2b7b"
      },
      "execution_count": null,
      "outputs": [
        {
          "output_type": "execute_result",
          "data": {
            "text/plain": [
              "array([[0.       , 0.       , 0.       , ..., 0.0283029, 0.       ,\n",
              "        0.       ],\n",
              "       [0.       , 0.0052046, 0.       , ..., 0.       , 0.       ,\n",
              "        0.       ],\n",
              "       [0.       , 0.       , 0.       , ..., 0.       , 0.       ,\n",
              "        0.       ],\n",
              "       ...,\n",
              "       [0.       , 0.       , 0.       , ..., 0.       , 0.       ,\n",
              "        0.       ],\n",
              "       [0.       , 0.       , 0.       , ..., 0.       , 0.       ,\n",
              "        0.       ],\n",
              "       [0.       , 0.       , 0.       , ..., 0.       , 0.       ,\n",
              "        0.       ]])"
            ]
          },
          "metadata": {},
          "execution_count": 128
        }
      ]
    },
    {
      "cell_type": "code",
      "source": [
        "#defining function for tokenization\n",
        "import re\n",
        "def tokenization(text):\n",
        "    tokens = re.findall('[\\w]+',text)\n",
        "    return tokens\n",
        "#applying function to the column\n",
        "data['tokenied']= data['no_stopwords'].apply(lambda x: tokenization(x))"
      ],
      "metadata": {
        "id": "0nugfQHXvKok"
      },
      "execution_count": null,
      "outputs": []
    },
    {
      "cell_type": "code",
      "source": [
        "data['tokenied']"
      ],
      "metadata": {
        "colab": {
          "base_uri": "https://localhost:8080/"
        },
        "id": "g8p7a3qwvUbn",
        "outputId": "80be03db-eccc-41d3-bc29-9e7b416ce0af"
      },
      "execution_count": null,
      "outputs": [
        {
          "output_type": "execute_result",
          "data": {
            "text/plain": [
              "0        [version, atheist, resources, addresses, athei...\n",
              "1        [version, begin, pgp, signed, message, introdu...\n",
              "2        [article, charley, wingate, writes, well, john...\n",
              "3        [kings, become, philosophers, philosophers, be...\n",
              "4        [article, bob, mcgwier, writes, however, hate,...\n",
              "                               ...                        \n",
              "18823    [paul, boxrud, writes, wasnt, sure, right, new...\n",
              "18824    [article, joakim, ruud, writes, article, mark,...\n",
              "18825    [article, bill, jefferys, writes, would, like,...\n",
              "18826    [article, gerry, palo, danger, anticult, group...\n",
              "18827    [article, bill, conner, writes, keith, ryan, w...\n",
              "Name: tokenied, Length: 18828, dtype: object"
            ]
          },
          "metadata": {},
          "execution_count": 98
        }
      ]
    },
    {
      "cell_type": "code",
      "source": [
        "#importing the Stemming function from nltk library\n",
        "from nltk.stem.porter import PorterStemmer\n",
        "#defining the object for stemming\n",
        "porter_stemmer = PorterStemmer()"
      ],
      "metadata": {
        "id": "_bYMd4nN-51S"
      },
      "execution_count": null,
      "outputs": []
    },
    {
      "cell_type": "code",
      "source": [
        "#defining a function for stemming\n",
        "def stemming(text):\n",
        "  stem_text = [porter_stemmer.stem(word) for word in text]\n",
        "  return stem_text"
      ],
      "metadata": {
        "id": "n23aoJcj_Nqs"
      },
      "execution_count": null,
      "outputs": []
    },
    {
      "cell_type": "code",
      "source": [
        "data['stemmed']=data['tokenied'].apply(lambda x: stemming(x))"
      ],
      "metadata": {
        "id": "B33v3o5D_j4n"
      },
      "execution_count": null,
      "outputs": []
    },
    {
      "cell_type": "code",
      "source": [
        "data['stemmed']"
      ],
      "metadata": {
        "colab": {
          "base_uri": "https://localhost:8080/"
        },
        "id": "y6bsAxGH_4c0",
        "outputId": "9cad3f01-742d-4275-c994-4f53db00595e"
      },
      "execution_count": null,
      "outputs": [
        {
          "output_type": "execute_result",
          "data": {
            "text/plain": [
              "0        [version, atheist, resourc, address, atheist, ...\n",
              "1        [version, begin, pgp, sign, messag, introduct,...\n",
              "2        [articl, charley, wingat, write, well, john, q...\n",
              "3        [king, becom, philosoph, philosoph, becom, kin...\n",
              "4        [articl, bob, mcgwier, write, howev, hate, eco...\n",
              "                               ...                        \n",
              "18823    [paul, boxrud, write, wasnt, sure, right, news...\n",
              "18824    [articl, joakim, ruud, write, articl, mark, wi...\n",
              "18825    [articl, bill, jefferi, write, would, like, un...\n",
              "18826    [articl, gerri, palo, danger, anticult, group,...\n",
              "18827    [articl, bill, conner, write, keith, ryan, wro...\n",
              "Name: stemmed, Length: 18828, dtype: object"
            ]
          },
          "metadata": {},
          "execution_count": 102
        }
      ]
    },
    {
      "cell_type": "code",
      "source": [
        "import nltk\n",
        "nltk.download('wordnet')\n",
        "nltk.download('omw-1.4')"
      ],
      "metadata": {
        "colab": {
          "base_uri": "https://localhost:8080/"
        },
        "id": "SDx_VLrPBXIx",
        "outputId": "fdd24c89-055b-4862-87cd-4fdca7d28b58"
      },
      "execution_count": null,
      "outputs": [
        {
          "output_type": "stream",
          "name": "stderr",
          "text": [
            "[nltk_data] Downloading package wordnet to /root/nltk_data...\n",
            "[nltk_data]   Package wordnet is already up-to-date!\n",
            "[nltk_data] Downloading package omw-1.4 to /root/nltk_data...\n",
            "[nltk_data]   Package omw-1.4 is already up-to-date!\n"
          ]
        },
        {
          "output_type": "execute_result",
          "data": {
            "text/plain": [
              "True"
            ]
          },
          "metadata": {},
          "execution_count": 103
        }
      ]
    },
    {
      "cell_type": "code",
      "source": [
        "from nltk.stem import WordNetLemmatizer\n",
        "#defining the object for Lemmatization\n",
        "wordnet_lemmatizer = WordNetLemmatizer()"
      ],
      "metadata": {
        "id": "9D4zhl4OAGS-"
      },
      "execution_count": null,
      "outputs": []
    },
    {
      "cell_type": "code",
      "source": [
        "#defining the function for lemmatization\n",
        "def lemmatizer(text):\n",
        "  lemm_text = [wordnet_lemmatizer.lemmatize(word) for word in text]\n",
        "  return lemm_text"
      ],
      "metadata": {
        "id": "qPg8WRQJAWZC"
      },
      "execution_count": null,
      "outputs": []
    },
    {
      "cell_type": "code",
      "source": [
        "data['lemmatized']=data['tokenied'].apply(lambda x:lemmatizer(x))"
      ],
      "metadata": {
        "id": "u2ZvVd-1BNPe"
      },
      "execution_count": null,
      "outputs": []
    },
    {
      "cell_type": "code",
      "source": [
        "data['lemmatized']"
      ],
      "metadata": {
        "colab": {
          "base_uri": "https://localhost:8080/"
        },
        "id": "Pqrl4mWFBr42",
        "outputId": "1fd8146c-dd60-4a3c-e633-257ec8a417b7"
      },
      "execution_count": null,
      "outputs": [
        {
          "output_type": "execute_result",
          "data": {
            "text/plain": [
              "0        [version, atheist, resource, address, atheist,...\n",
              "1        [version, begin, pgp, signed, message, introdu...\n",
              "2        [article, charley, wingate, writes, well, john...\n",
              "3        [king, become, philosopher, philosopher, becom...\n",
              "4        [article, bob, mcgwier, writes, however, hate,...\n",
              "                               ...                        \n",
              "18823    [paul, boxrud, writes, wasnt, sure, right, new...\n",
              "18824    [article, joakim, ruud, writes, article, mark,...\n",
              "18825    [article, bill, jefferys, writes, would, like,...\n",
              "18826    [article, gerry, palo, danger, anticult, group...\n",
              "18827    [article, bill, conner, writes, keith, ryan, w...\n",
              "Name: lemmatized, Length: 18828, dtype: object"
            ]
          },
          "metadata": {},
          "execution_count": 107
        }
      ]
    },
    {
      "cell_type": "code",
      "source": [],
      "metadata": {
        "id": "sJgSFITPKvqm"
      },
      "execution_count": null,
      "outputs": []
    }
  ]
}